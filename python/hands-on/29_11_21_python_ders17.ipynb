{
 "cells": [
  {
   "cell_type": "code",
   "execution_count": 1,
   "metadata": {},
   "outputs": [
    {
     "name": "stdout",
     "output_type": "stream",
     "text": [
      "4\n"
     ]
    }
   ],
   "source": [
    "print((lambda x:x**2)(2))"
   ]
  },
  {
   "cell_type": "code",
   "execution_count": 2,
   "metadata": {},
   "outputs": [
    {
     "data": {
      "text/plain": [
       "<function __main__.<lambda>(x)>"
      ]
     },
     "execution_count": 2,
     "metadata": {},
     "output_type": "execute_result"
    }
   ],
   "source": [
    "lambda x: \"odd\" if x%2 !=0 else \"even\""
   ]
  },
  {
   "cell_type": "code",
   "execution_count": null,
   "metadata": {},
   "outputs": [],
   "source": []
  },
  {
   "cell_type": "code",
   "execution_count": 3,
   "metadata": {},
   "outputs": [
    {
     "data": {
      "text/plain": [
       "'even'"
      ]
     },
     "execution_count": 3,
     "metadata": {},
     "output_type": "execute_result"
    }
   ],
   "source": [
    "(lambda x: \"odd\" if x%2 !=0 else \"even\")(2)"
   ]
  },
  {
   "cell_type": "code",
   "execution_count": 13,
   "metadata": {},
   "outputs": [
    {
     "data": {
      "text/plain": [
       "['i', 'l', 'a']"
      ]
     },
     "execution_count": 13,
     "metadata": {},
     "output_type": "execute_result"
    }
   ],
   "source": [
    "(lambda x: [*reversed(x)])(\"ali\")"
   ]
  },
  {
   "cell_type": "code",
   "execution_count": 20,
   "metadata": {},
   "outputs": [
    {
     "name": "stdout",
     "output_type": "stream",
     "text": [
      "1 odd\n",
      "2 even\n",
      "3 odd\n",
      "4 even\n"
     ]
    }
   ],
   "source": [
    "liste = [1,2,3,4]\n",
    "for i in liste:\n",
    "    sayılar= (lambda x: \"odd\" if x%2!=0 else \"even\")(i)\n",
    "    print(i,sayılar)"
   ]
  },
  {
   "cell_type": "code",
   "execution_count": 23,
   "metadata": {},
   "outputs": [
    {
     "name": "stdout",
     "output_type": "stream",
     "text": [
      "odd\n"
     ]
    }
   ],
   "source": [
    "finder=(lambda x: \"odd\" if x%2 !=0 else \"even\")\n",
    "print(finder(3))"
   ]
  },
  {
   "cell_type": "code",
   "execution_count": 24,
   "metadata": {},
   "outputs": [],
   "source": [
    "reverser=(lambda x: [*reversed(x)])"
   ]
  },
  {
   "cell_type": "code",
   "execution_count": 25,
   "metadata": {},
   "outputs": [
    {
     "data": {
      "text/plain": [
       "[4, 3, 2, 1]"
      ]
     },
     "execution_count": 25,
     "metadata": {},
     "output_type": "execute_result"
    }
   ],
   "source": [
    "reverser([1,2,3,4])"
   ]
  },
  {
   "cell_type": "code",
   "execution_count": 36,
   "metadata": {},
   "outputs": [],
   "source": [
    "fonksiyon = (lambda x:x**2)\n",
    "iterable=[1,2,3]"
   ]
  },
  {
   "cell_type": "code",
   "execution_count": 37,
   "metadata": {},
   "outputs": [
    {
     "name": "stdout",
     "output_type": "stream",
     "text": [
      "1 4 9\n"
     ]
    }
   ],
   "source": [
    "sonuc = map(fonksiyon, iterable)\n",
    "print(*sonuc)"
   ]
  },
  {
   "cell_type": "code",
   "execution_count": 38,
   "metadata": {},
   "outputs": [],
   "source": [
    "def kare(b):\n",
    "    return b**2"
   ]
  },
  {
   "cell_type": "code",
   "execution_count": 40,
   "metadata": {},
   "outputs": [
    {
     "name": "stdout",
     "output_type": "stream",
     "text": [
      "1 4 9\n"
     ]
    }
   ],
   "source": [
    "sonuc2=map(kare,iterable)\n",
    "print(*sonuc2)"
   ]
  },
  {
   "cell_type": "code",
   "execution_count": 43,
   "metadata": {},
   "outputs": [
    {
     "name": "stdout",
     "output_type": "stream",
     "text": [
      "['one', 'six', 'ten', 'two']\n"
     ]
    }
   ],
   "source": [
    "letter1 = [\"o\", \"s\", \"t\", \"t\"]\n",
    "letter2 = [\"n\", \"i\", \"e\", \"w\"]\n",
    "letter3 = [\"e\", \"x\", \"n\", \"o\"]\n",
    "numbers = map(lambda x, y, z: x+y+z, letter1, letter2, letter3)\n",
    "print(list(numbers))"
   ]
  },
  {
   "cell_type": "code",
   "execution_count": 50,
   "metadata": {},
   "outputs": [
    {
     "name": "stdout",
     "output_type": "stream",
     "text": [
      "[6.0, 6.0, 6.0, 6.0]\n"
     ]
    }
   ],
   "source": [
    "nums1= [9,6,7,4]\n",
    "nums2=[3,6,5,8]\n",
    "fonksiyon=map(lambda x,y:(x+y)/2, nums1, nums2)\n",
    "print(list(fonksiyon))\n"
   ]
  },
  {
   "cell_type": "code",
   "execution_count": 52,
   "metadata": {},
   "outputs": [
    {
     "name": "stdout",
     "output_type": "stream",
     "text": [
      "['i love you', 'you ate much', 'he works hard']\n"
     ]
    }
   ],
   "source": [
    "words1=[\"you\",\"much\",\"hard\"]\n",
    "words2=[\"i\",\"you\",\"he\"]\n",
    "words3=[\"love\", \"ate\",\"works\"]\n",
    "funk=map(lambda x,y,z:x+\" \"+y+\" \"+z, words2, words3, words1)\n",
    "print(list(funk))"
   ]
  },
  {
   "cell_type": "code",
   "execution_count": 53,
   "metadata": {},
   "outputs": [
    {
     "name": "stdout",
     "output_type": "stream",
     "text": [
      "<class 'filter'>\n",
      "even numbers are: [0, 2, 4, 6, 8]\n"
     ]
    }
   ],
   "source": [
    "first_ten=[0,1,2,3,4,5,6,7,8,9]\n",
    "even=filter(lambda x:x%2==0, first_ten)\n",
    "print(type(even))\n",
    "print(\"even numbers are:\", list(even))"
   ]
  },
  {
   "cell_type": "code",
   "execution_count": 55,
   "metadata": {},
   "outputs": [
    {
     "name": "stdout",
     "output_type": "stream",
     "text": [
      "less than 5 : ['swim', 'me', 'kiwi']\n"
     ]
    }
   ],
   "source": [
    "words = [\"apple\", \"swim\", \"clock\", \"me\", \"kiwi\", \"banana\"]\n",
    "kucuk=filter(lambda x:len(x)<5, words)\n",
    "print(\"less than 5 :\", list(kucuk))"
   ]
  },
  {
   "cell_type": "code",
   "execution_count": 56,
   "metadata": {},
   "outputs": [],
   "source": [
    "vowel_list = ['a', 'e', 'i', 'o', 'u']\n",
    "first_ten = ['a', 'b', 'c', 'd', 'e', 'f', 'g', 'h', 'i', 'j']"
   ]
  },
  {
   "cell_type": "code",
   "execution_count": 57,
   "metadata": {},
   "outputs": [
    {
     "name": "stdout",
     "output_type": "stream",
     "text": [
      "['a', 'e', 'i']\n"
     ]
    }
   ],
   "source": [
    "vowel= filter(lambda x: x in vowel_list, first_ten)\n",
    "print(list(vowel))"
   ]
  },
  {
   "cell_type": "code",
   "execution_count": 68,
   "metadata": {},
   "outputs": [],
   "source": [
    "def functioner(emoji):\n",
    "      return lambda x:print(x,\":)\")\n"
   ]
  },
  {
   "cell_type": "code",
   "execution_count": 70,
   "metadata": {},
   "outputs": [],
   "source": [
    "myPrint_smile=functioner(\":)\")\n",
    "myPrint_sad=functioner(\":(\")\n",
    "myPrint_neutral=functioner(\":l\")"
   ]
  },
  {
   "cell_type": "code",
   "execution_count": 71,
   "metadata": {},
   "outputs": [
    {
     "name": "stdout",
     "output_type": "stream",
     "text": [
      "ali :)\n"
     ]
    }
   ],
   "source": [
    "myPrint_smile(\"ali\")"
   ]
  },
  {
   "cell_type": "markdown",
   "metadata": {},
   "source": [
    "kendi fonksiyonumuzu üretiyoruz"
   ]
  },
  {
   "cell_type": "code",
   "execution_count": 74,
   "metadata": {},
   "outputs": [],
   "source": [
    "def function_generator(function_name):\n",
    "    return lambda x:function_name(x)\n"
   ]
  },
  {
   "cell_type": "code",
   "execution_count": 75,
   "metadata": {},
   "outputs": [],
   "source": [
    "fatih_print=function_generator(print)\n",
    "fatih_max=function_generator(max)\n",
    "fatih_bool=function_generator(bool)\n",
    "fatih_sorted=function_generator(sorted)"
   ]
  },
  {
   "cell_type": "code",
   "execution_count": 76,
   "metadata": {},
   "outputs": [
    {
     "data": {
      "text/plain": [
       "22"
      ]
     },
     "execution_count": 76,
     "metadata": {},
     "output_type": "execute_result"
    }
   ],
   "source": [
    "fatih_max((2,22,3))"
   ]
  },
  {
   "cell_type": "code",
   "execution_count": null,
   "metadata": {},
   "outputs": [],
   "source": []
  },
  {
   "cell_type": "code",
   "execution_count": null,
   "metadata": {},
   "outputs": [],
   "source": []
  },
  {
   "cell_type": "code",
   "execution_count": null,
   "metadata": {},
   "outputs": [],
   "source": []
  }
 ],
 "metadata": {
  "interpreter": {
   "hash": "4534adeab4963273a8b018f16fd2b3dc2b5ed7beaec456450e20317f249c8c14"
  },
  "kernelspec": {
   "display_name": "Python 3.8.8 64-bit ('base': conda)",
   "language": "python",
   "name": "python3"
  },
  "language_info": {
   "codemirror_mode": {
    "name": "ipython",
    "version": 3
   },
   "file_extension": ".py",
   "mimetype": "text/x-python",
   "name": "python",
   "nbconvert_exporter": "python",
   "pygments_lexer": "ipython3",
   "version": "3.8.8"
  },
  "orig_nbformat": 4
 },
 "nbformat": 4,
 "nbformat_minor": 2
}
