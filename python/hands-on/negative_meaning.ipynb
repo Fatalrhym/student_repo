{
 "cells": [
  {
   "cell_type": "markdown",
   "metadata": {},
   "source": [
    "Define a function to take a word and return negative meaning.\n",
    "Given a word, return a new word where \"not \" has been added to the front. However, if the word already begins with \"not\", return the string unchanged.\n",
    "\n",
    "For example:\n",
    "\n",
    "Test\tResult\n",
    "print(not_string('sugar'))\n",
    "not sugar\n",
    "print(not_string('x'))\n",
    "not x\n",
    "print(not_string('not bad'))\n",
    "not bad"
   ]
  },
  {
   "cell_type": "code",
   "execution_count": 11,
   "metadata": {},
   "outputs": [],
   "source": [
    "def not_string(word):\n",
    "    if str(word).startswith(\"not\"):\n",
    "        return(word)\n",
    "    else:\n",
    "        return \"not \"+word"
   ]
  },
  {
   "cell_type": "code",
   "execution_count": 12,
   "metadata": {},
   "outputs": [
    {
     "data": {
      "text/plain": [
       "'not bad'"
      ]
     },
     "execution_count": 12,
     "metadata": {},
     "output_type": "execute_result"
    }
   ],
   "source": [
    "not_string(\"bad\")"
   ]
  },
  {
   "cell_type": "markdown",
   "metadata": {},
   "source": [
    "Given a non-empty string and an int n, return a new string where the character at index n has been removed. The value of n will be a valid index of a character in the original string (i.e. n will be in the range 0....len(str)-1 inclusive).\n",
    "For example:\n",
    "\n",
    "Test\tResult\n",
    "print(missing_char('kitchen', 1))\n",
    "ktchen\n",
    "print(missing_char('kitchen', 0))\n",
    "itchen\n",
    "print(missing_char('kitchen', 4))\n",
    "kitcen"
   ]
  },
  {
   "cell_type": "code",
   "execution_count": 23,
   "metadata": {},
   "outputs": [],
   "source": [
    "def missing_char(word, n):\n",
    "    return str(word)[0:(n)]+str(word)[(n+1):]\n",
    "    "
   ]
  },
  {
   "cell_type": "code",
   "execution_count": 24,
   "metadata": {},
   "outputs": [
    {
     "name": "stdout",
     "output_type": "stream",
     "text": [
      "kitcen\n"
     ]
    }
   ],
   "source": [
    "print(missing_char(\"kitchen\", 4))"
   ]
  },
  {
   "cell_type": "code",
   "execution_count": 32,
   "metadata": {},
   "outputs": [
    {
     "name": "stdout",
     "output_type": "stream",
     "text": [
      "[2, 3, 5, 7, 11, 13, 17, 19, 23, 29, 31, 37, 41, 43, 47, 53, 59, 61, 67, 71, 73, 79, 83, 89, 97]\n"
     ]
    }
   ],
   "source": [
    "lst=[]\n",
    "\n",
    "for i in range(2,100):\n",
    "    for j in range(2,i):\n",
    "        if i%j==0:\n",
    "            break                              \n",
    "    else:\n",
    "        lst.append(i)\n",
    "                              \n",
    "print(lst)"
   ]
  },
  {
   "cell_type": "markdown",
   "metadata": {},
   "source": [
    "Given two integer values, return their sum. If the two values are the same, then return double their sum.\n",
    "\n",
    "\n",
    "\n",
    "\n",
    "For example:\n",
    "\n",
    "Test\tResult\n",
    "print(sum_double(1, 2))\n",
    "3\n",
    "print(sum_double(5, 7))\n",
    "12\n",
    "print(sum_double(5, 5))\n",
    "20"
   ]
  },
  {
   "cell_type": "code",
   "execution_count": 2,
   "metadata": {},
   "outputs": [
    {
     "data": {
      "text/plain": [
       "20"
      ]
     },
     "execution_count": 2,
     "metadata": {},
     "output_type": "execute_result"
    }
   ],
   "source": [
    "def sum_double(x,y):\n",
    "    if x==y:\n",
    "        return (x+y)*2\n",
    "    else:\n",
    "        return x+y\n",
    "\n",
    "sum_double(5,5)"
   ]
  },
  {
   "cell_type": "markdown",
   "metadata": {},
   "source": [
    "We have a loud talking parrot. We are in trouble if the parrot is talking and the hour is before 6 or after 21.\n",
    "Define a function taking two parameters (talking and hour) to return True if we are in trouble. The argument to  talking parameter can only be True or False whether it is talking or not. The argument to hour parameter should be the current hour time in the range of 0 to 23.\n",
    "For example:\n",
    "\n",
    "Test\tResult\n",
    "print(parrot_trouble(True, 5))\n",
    "True\n",
    "print(parrot_trouble(True, 8))\n",
    "False\n",
    "print(parrot_trouble(False, 22))\n",
    "False"
   ]
  },
  {
   "cell_type": "code",
   "execution_count": 1,
   "metadata": {},
   "outputs": [
    {
     "data": {
      "text/plain": [
       "False"
      ]
     },
     "execution_count": 1,
     "metadata": {},
     "output_type": "execute_result"
    }
   ],
   "source": [
    "talking=bool\n",
    "hour=5\n",
    "def parrot_trouble(talking,hour):\n",
    "    if talking==True and (hour<6 or 21<hour):\n",
    "        return True\n",
    "    else:\n",
    "        return False\n",
    "\n",
    "parrot_trouble(False, 22)"
   ]
  },
  {
   "cell_type": "code",
   "execution_count": null,
   "metadata": {},
   "outputs": [],
   "source": []
  }
 ],
 "metadata": {
  "interpreter": {
   "hash": "4534adeab4963273a8b018f16fd2b3dc2b5ed7beaec456450e20317f249c8c14"
  },
  "kernelspec": {
   "display_name": "Python 3.8.8 64-bit ('base': conda)",
   "language": "python",
   "name": "python3"
  },
  "language_info": {
   "codemirror_mode": {
    "name": "ipython",
    "version": 3
   },
   "file_extension": ".py",
   "mimetype": "text/x-python",
   "name": "python",
   "nbconvert_exporter": "python",
   "pygments_lexer": "ipython3",
   "version": "3.8.10"
  },
  "orig_nbformat": 4
 },
 "nbformat": 4,
 "nbformat_minor": 2
}
