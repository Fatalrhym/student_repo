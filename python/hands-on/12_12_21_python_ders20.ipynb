{
 "cells": [
  {
   "cell_type": "code",
   "execution_count": 9,
   "metadata": {},
   "outputs": [
    {
     "name": "stdout",
     "output_type": "stream",
     "text": [
      "You should enter integer. Try again!\n"
     ]
    }
   ],
   "source": [
    "fruits=[\"banana\", \"mango\",\"pear\", \"apple\", \"kiwi\", \"grape\"]\n",
    "try:\n",
    "    while True:\n",
    "        a=int(input (\"give me a favorite num:\"))\n",
    "        print(\"my favorite fruit is\", fruits[a])\n",
    "        break\n",
    "except IndexError:\n",
    "    print(\"try again please\")\n",
    "except ValueError:\n",
    "    print(\"You should enter integer. Try again!\")"
   ]
  },
  {
   "cell_type": "code",
   "execution_count": 13,
   "metadata": {},
   "outputs": [
    {
     "name": "stdout",
     "output_type": "stream",
     "text": [
      "You have 3 right.\n",
      "Value error. You have 2 right left. Try again!\n",
      "our favorite always fresh.\n",
      "You have 2 right.\n",
      "Value error. You have 1 right left. Try again!\n",
      "our favorite always fresh.\n",
      "You have 1 right.\n",
      "Value error. You have 0 right left. Try again!\n",
      "our favorite always fresh.\n"
     ]
    }
   ],
   "source": [
    "counter = 3\n",
    "while counter > 0:\n",
    "    try:\n",
    "        print(f\"You have {counter} right.\")\n",
    "        index = int(input(\"pick an index number.\"))\n",
    "        print(\"your favorite fruit is\", fruits[index])\n",
    "\n",
    "    except IndexError:\n",
    "        counter-=1\n",
    "        print(f\"Index error. You have {counter} right left. Try again!\")\n",
    "    \n",
    "    except ValueError:\n",
    "        counter-=1\n",
    "        print(f\"Value error. You have {counter} right left. Try again!\")\n",
    "\n",
    "    else:\n",
    "        print(\"Congrats! You have entered valid input.\")\n",
    "        break\n",
    "\n",
    "    finally:\n",
    "        print(\"our favorite always fresh.\")"
   ]
  },
  {
   "cell_type": "code",
   "execution_count": 14,
   "metadata": {},
   "outputs": [],
   "source": [
    "word = {1:\"1\", 2:\"2\"}"
   ]
  },
  {
   "cell_type": "code",
   "execution_count": 15,
   "metadata": {},
   "outputs": [
    {
     "data": {
      "text/plain": [
       "{1: '1', 2: '2'}"
      ]
     },
     "execution_count": 15,
     "metadata": {},
     "output_type": "execute_result"
    }
   ],
   "source": [
    "word"
   ]
  },
  {
   "cell_type": "code",
   "execution_count": 17,
   "metadata": {},
   "outputs": [
    {
     "data": {
      "text/plain": [
       "dict_keys([1, 2])"
      ]
     },
     "execution_count": 17,
     "metadata": {},
     "output_type": "execute_result"
    }
   ],
   "source": [
    "keys = word.keys()\n",
    "keys"
   ]
  },
  {
   "cell_type": "code",
   "execution_count": 18,
   "metadata": {},
   "outputs": [],
   "source": [
    "word_1={}\n"
   ]
  },
  {
   "cell_type": "code",
   "execution_count": 19,
   "metadata": {},
   "outputs": [],
   "source": [
    "word_1[3]=1"
   ]
  },
  {
   "cell_type": "code",
   "execution_count": 20,
   "metadata": {},
   "outputs": [
    {
     "data": {
      "text/plain": [
       "{3: 1}"
      ]
     },
     "execution_count": 20,
     "metadata": {},
     "output_type": "execute_result"
    }
   ],
   "source": [
    "word_1"
   ]
  },
  {
   "cell_type": "code",
   "execution_count": 22,
   "metadata": {},
   "outputs": [
    {
     "name": "stdout",
     "output_type": "stream",
     "text": [
      "{'b': 1, 'u': 1, 'g': 1, 'ü': 5, 'n': 5, ' ': 6, 'h': 1, 'z': 1, 'l': 2, 'y': 3, 'm': 1, '.': 5, 'A': 1, 'r': 2, 'ı': 3, 'k': 2, 'a': 2, '2': 1, 's': 4, 'e': 1, 'i': 1, 'o': 2}\n"
     ]
    }
   ],
   "source": [
    "string = \"bugün hüzünlüyüm. Ayrılık yakın. 2 session sonra...\"\n",
    "dikt={}\n",
    "for i in string:\n",
    "    if i in dikt:\n",
    "        dikt[i]= dikt[i]+1\n",
    "    else:\n",
    "        dikt[i]=1\n",
    "print(dikt)"
   ]
  },
  {
   "cell_type": "code",
   "execution_count": 9,
   "metadata": {},
   "outputs": [
    {
     "data": {
      "text/plain": [
       "{'int': 2, 'str': 3, 'bool': 1, 'list': 1, 'tuple': 1, 'dict': 2, 'set': 1}"
      ]
     },
     "execution_count": 9,
     "metadata": {},
     "output_type": "execute_result"
    }
   ],
   "source": [
    "veri = [\"a\", \"b\", True, (False, 1), {\"1\" : 2}, [1,2], {\"2\" : \"two\"}, {2, \"3\"}, \"c\", 23, 0]\n",
    "tipler = [\"int\", \"str\", \"bool\", \"list\", \"tuple\", \"dict\", \"set\"]\n",
    "adet={}.fromkeys(tipler, 0)\n",
    "for i in veri:\n",
    "    if type(i)==str:\n",
    "        adet[\"str\"]+=1\n",
    "    elif type(i)==int:\n",
    "        adet[\"int\"]+=1\n",
    "    elif type(i)==bool:\n",
    "        adet[\"bool\"]+=1\n",
    "    elif type(i)==list:\n",
    "        adet[\"list\"]+=1\n",
    "    elif type(i)==tuple:\n",
    "        adet[\"tuple\"]+=1\n",
    "    elif type(i)==dict:\n",
    "        adet[\"dict\"]+=1\n",
    "    else:\n",
    "        adet[\"set\"]+=1\n",
    "adet"
   ]
  },
  {
   "cell_type": "code",
   "execution_count": 10,
   "metadata": {},
   "outputs": [],
   "source": [
    "import os"
   ]
  },
  {
   "cell_type": "code",
   "execution_count": 13,
   "metadata": {},
   "outputs": [
    {
     "data": {
      "text/plain": [
       "['01_11_21_python_ders10.ipynb',\n",
       " '02_12_21_python_ders18.ipynb',\n",
       " '04_11_21_python_ders11.ipynb',\n",
       " '06_12_21_python_ders19.ipynb',\n",
       " '09_11_21_python_ders12.ipynb',\n",
       " '11_10_21_python_ders6.ipynb',\n",
       " '11_11_21_python_ders12.ipynb',\n",
       " '12_12_21_python_ders20.ipynb',\n",
       " '14_10_21_python7dersi.ipynb',\n",
       " '15_11_21_python_ders13.ipynb',\n",
       " '17_11_21_python_ders15.ipynb',\n",
       " '18_10_21_python_ders8.ipynb',\n",
       " '21_10_21_python_ders9.ipynb',\n",
       " '22_11_21_python_ders16.ipynb',\n",
       " '29_11_21_python_ders17.ipynb',\n",
       " 'Assignment_armstrong_number.ipynb',\n",
       " 'Assignment_covid19.ipynb',\n",
       " 'Assignment_password.ipynb',\n",
       " 'Assignment_prime_number.ipynb',\n",
       " 'assignment_prime_number2.ipynb',\n",
       " 'fizz_buzz_numbers.ipynb',\n",
       " 'ilkders_ipynb_adlı_not_defterinin_kopyası.ipynb',\n",
       " 'negative_meaning.ipynb',\n",
       " 'README.md',\n",
       " 'robot_project_09_12_21.ipynb',\n",
       " 'teamwork.ipynb']"
      ]
     },
     "execution_count": 13,
     "metadata": {},
     "output_type": "execute_result"
    }
   ],
   "source": [
    "dosya_içeriği =os.listdir()\n",
    "dosya_içeriği"
   ]
  },
  {
   "cell_type": "code",
   "execution_count": null,
   "metadata": {},
   "outputs": [],
   "source": []
  },
  {
   "cell_type": "code",
   "execution_count": null,
   "metadata": {},
   "outputs": [],
   "source": []
  },
  {
   "cell_type": "code",
   "execution_count": null,
   "metadata": {},
   "outputs": [],
   "source": []
  }
 ],
 "metadata": {
  "interpreter": {
   "hash": "4534adeab4963273a8b018f16fd2b3dc2b5ed7beaec456450e20317f249c8c14"
  },
  "kernelspec": {
   "display_name": "Python 3.8.8 64-bit ('base': conda)",
   "language": "python",
   "name": "python3"
  },
  "language_info": {
   "codemirror_mode": {
    "name": "ipython",
    "version": 3
   },
   "file_extension": ".py",
   "mimetype": "text/x-python",
   "name": "python",
   "nbconvert_exporter": "python",
   "pygments_lexer": "ipython3",
   "version": "3.8.8"
  },
  "orig_nbformat": 4
 },
 "nbformat": 4,
 "nbformat_minor": 2
}
