{
 "cells": [
  {
   "cell_type": "code",
   "execution_count": 2,
   "metadata": {},
   "outputs": [
    {
     "name": "stdout",
     "output_type": "stream",
     "text": [
      "yes\n"
     ]
    }
   ],
   "source": [
    "bool_value = True\n",
    "if bool_value:\n",
    "    print(\"yes\")\n",
    "else:\n",
    "    print(\"No\")"
   ]
  },
  {
   "cell_type": "code",
   "execution_count": 7,
   "metadata": {},
   "outputs": [
    {
     "name": "stdout",
     "output_type": "stream",
     "text": [
      "largest number is: 45\n"
     ]
    }
   ],
   "source": [
    "first_num = int(input(\"first num:\"))\n",
    "sec_num = int(input(\"second num:\"))\n",
    "third_num = int(input(\"third num:\"))\n",
    "if first_num>sec_num and first_num>third_num:\n",
    "    largest = first_num\n",
    "elif sec_num>third_num and sec_num>first_num:\n",
    "    largest = sec_num\n",
    "else:\n",
    "    largest = third_num\n",
    "print(\"largest number is:\", largest)"
   ]
  },
  {
   "cell_type": "code",
   "execution_count": 8,
   "metadata": {},
   "outputs": [
    {
     "name": "stdout",
     "output_type": "stream",
     "text": [
      "negative number\n"
     ]
    }
   ],
   "source": [
    "num = float(input(\"gimme a num:\"))\n",
    "if num>0:\n",
    "    print(\"positive number\")\n",
    "elif num==0:\n",
    "    print(\"zero\")\n",
    "else:\n",
    "    print(\"negative number\")"
   ]
  },
  {
   "cell_type": "code",
   "execution_count": 9,
   "metadata": {},
   "outputs": [
    {
     "name": "stdout",
     "output_type": "stream",
     "text": [
      "B\n"
     ]
    }
   ],
   "source": [
    "note = int(input(\"notunuz ?: \"))\n",
    "if note>90:\n",
    "    if note>95:\n",
    "        print(\"A+\")\n",
    "    else:\n",
    "        print(\"A\")\n",
    "elif 90>note>80:\n",
    "    if note>85:\n",
    "        print(\"B+\")\n",
    "    else:\n",
    "        print(\"B\")"
   ]
  },
  {
   "cell_type": "code",
   "execution_count": 10,
   "metadata": {},
   "outputs": [
    {
     "name": "stdout",
     "output_type": "stream",
     "text": [
      "4\n",
      "3\n",
      "2\n",
      "1\n",
      "0\n"
     ]
    }
   ],
   "source": [
    "condition = 5\n",
    "while condition:\n",
    "    condition -=1\n",
    "    print(condition)"
   ]
  },
  {
   "cell_type": "code",
   "execution_count": 11,
   "metadata": {},
   "outputs": [
    {
     "name": "stdout",
     "output_type": "stream",
     "text": [
      "0\n",
      "1\n",
      "2\n",
      "3\n",
      "4\n",
      "5\n",
      "now number is bigger or equal to 6\n"
     ]
    }
   ],
   "source": [
    "number = 0\n",
    "while number<6:\n",
    "    print(number)\n",
    "    number+=1\n",
    "print(\"now number is bigger or equal to 6\")"
   ]
  },
  {
   "cell_type": "code",
   "execution_count": 14,
   "metadata": {},
   "outputs": [
    {
     "name": "stdout",
     "output_type": "stream",
     "text": [
      "4\n",
      "3\n",
      "2\n",
      "1\n",
      "0\n"
     ]
    }
   ],
   "source": [
    "number = 5\n",
    "while True:\n",
    "    \n",
    "    number-=1\n",
    "    print(number)\n",
    "    if number == 0:\n",
    "        break"
   ]
  },
  {
   "cell_type": "code",
   "execution_count": null,
   "metadata": {},
   "outputs": [
    {
     "data": {
      "text/plain": [
       "<function str.isdigit()>"
      ]
     },
     "execution_count": 15,
     "metadata": {},
     "output_type": "execute_result"
    }
   ],
   "source": [
    "\"onaltı\".isdigit"
   ]
  },
  {
   "cell_type": "code",
   "execution_count": 20,
   "metadata": {},
   "outputs": [
    {
     "name": "stdout",
     "output_type": "stream",
     "text": [
      "Great! You enter valid input: 15\n"
     ]
    }
   ],
   "source": [
    "age = input(\"enter age:\")\n",
    "while not age.isdigit():\n",
    "    print(\"You entered incorrect.\")\n",
    "    age = input(\"enter your age again:\")\n",
    "print(\"Great! You enter valid input:\", age)\n"
   ]
  },
  {
   "cell_type": "code",
   "execution_count": 23,
   "metadata": {},
   "outputs": [
    {
     "name": "stdout",
     "output_type": "stream",
     "text": [
      "little higher\n",
      "little higher\n",
      "little lower\n",
      "You are mindreader\n"
     ]
    }
   ],
   "source": [
    "number = 22\n",
    "\n",
    "while num!=number:\n",
    "    num = int(input(\"aklından bi sayı tut:\"))\n",
    "    if num<number:\n",
    "        print(\"little higher\")\n",
    "    elif num>number:\n",
    "        print(\"little lower\")\n",
    "    else:\n",
    "        print(\"You are mindreader\")\n",
    "\n"
   ]
  },
  {
   "cell_type": "code",
   "execution_count": 29,
   "metadata": {},
   "outputs": [
    {
     "name": "stdout",
     "output_type": "stream",
     "text": [
      "5\n"
     ]
    }
   ],
   "source": [
    "word1 = input(\"bir cümle girin:\")\n",
    "word2 = word1.split()\n",
    "\n",
    "longest=0\n",
    "i=0\n",
    "while i<len(word2):\n",
    "    if len(word2[i])>longest:\n",
    "        longest = len(word2[i])\n",
    "    \n",
    "    i+=1\n",
    "print(longest)"
   ]
  },
  {
   "cell_type": "code",
   "execution_count": null,
   "metadata": {},
   "outputs": [],
   "source": []
  },
  {
   "cell_type": "code",
   "execution_count": null,
   "metadata": {},
   "outputs": [],
   "source": []
  },
  {
   "cell_type": "code",
   "execution_count": null,
   "metadata": {},
   "outputs": [],
   "source": []
  },
  {
   "cell_type": "code",
   "execution_count": null,
   "metadata": {},
   "outputs": [],
   "source": []
  },
  {
   "cell_type": "code",
   "execution_count": null,
   "metadata": {},
   "outputs": [],
   "source": []
  }
 ],
 "metadata": {
  "interpreter": {
   "hash": "4534adeab4963273a8b018f16fd2b3dc2b5ed7beaec456450e20317f249c8c14"
  },
  "kernelspec": {
   "display_name": "Python 3.8.8 64-bit ('base': conda)",
   "language": "python",
   "name": "python3"
  },
  "language_info": {
   "codemirror_mode": {
    "name": "ipython",
    "version": 3
   },
   "file_extension": ".py",
   "mimetype": "text/x-python",
   "name": "python",
   "nbconvert_exporter": "python",
   "pygments_lexer": "ipython3",
   "version": "3.8.8"
  },
  "orig_nbformat": 4
 },
 "nbformat": 4,
 "nbformat_minor": 2
}
