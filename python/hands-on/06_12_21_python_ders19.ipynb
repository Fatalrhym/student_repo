{
 "cells": [
  {
   "cell_type": "code",
   "execution_count": 1,
   "metadata": {},
   "outputs": [],
   "source": [
    "import math"
   ]
  },
  {
   "cell_type": "code",
   "execution_count": 3,
   "metadata": {},
   "outputs": [
    {
     "ename": "ValueError",
     "evalue": "math domain error",
     "output_type": "error",
     "traceback": [
      "\u001b[1;31m---------------------------------------------------------------------------\u001b[0m",
      "\u001b[1;31mValueError\u001b[0m                                Traceback (most recent call last)",
      "\u001b[1;32m<ipython-input-3-b92657e4ee68>\u001b[0m in \u001b[0;36m<module>\u001b[1;34m\u001b[0m\n\u001b[1;32m----> 1\u001b[1;33m \u001b[0mmath\u001b[0m\u001b[1;33m.\u001b[0m\u001b[0macos\u001b[0m\u001b[1;33m(\u001b[0m\u001b[1;33m-\u001b[0m\u001b[1;36m5\u001b[0m\u001b[1;33m)\u001b[0m\u001b[1;33m\u001b[0m\u001b[1;33m\u001b[0m\u001b[0m\n\u001b[0m",
      "\u001b[1;31mValueError\u001b[0m: math domain error"
     ]
    }
   ],
   "source": [
    "math.acos(-5)"
   ]
  },
  {
   "cell_type": "code",
   "execution_count": 19,
   "metadata": {},
   "outputs": [
    {
     "data": {
      "text/plain": [
       "120"
      ]
     },
     "execution_count": 19,
     "metadata": {},
     "output_type": "execute_result"
    }
   ],
   "source": [
    "def factor(num):\n",
    "    if num<2:\n",
    "        return num\n",
    "    else:\n",
    "        return num*factor(num-1)\n",
    "\n",
    "factor(5)"
   ]
  },
  {
   "cell_type": "code",
   "execution_count": 22,
   "metadata": {},
   "outputs": [
    {
     "name": "stdout",
     "output_type": "stream",
     "text": [
      "The result of the division is :  1.0\n"
     ]
    }
   ],
   "source": [
    "while True:\n",
    "    no_one = int(input(\"The first number please : \"))\n",
    "    no_two = int(input(\"The second number please : \"))\n",
    "    division = no_one / no_two\n",
    "    print(\"The result of the division is : \", division)\n",
    "    break"
   ]
  },
  {
   "cell_type": "code",
   "execution_count": 23,
   "metadata": {},
   "outputs": [
    {
     "name": "stdout",
     "output_type": "stream",
     "text": [
      "Something is wrong. enter again\n",
      "The result of the division is :  1.0\n"
     ]
    }
   ],
   "source": [
    "while True:\n",
    "    no_one = int(input(\"The first number please : \"))\n",
    "    no_two = int(input(\"The second number please : \"))\n",
    "    try:\n",
    "        division = no_one / no_two\n",
    "        print(\"The result of the division is : \", division)\n",
    "        break\n",
    "    except:\n",
    "        print(\"Something is wrong. enter again\")\n",
    "    "
   ]
  },
  {
   "cell_type": "code",
   "execution_count": 27,
   "metadata": {},
   "outputs": [
    {
     "name": "stdout",
     "output_type": "stream",
     "text": [
      "muhtemelen yanlış bir şeyler yaptın\n"
     ]
    }
   ],
   "source": [
    "try:\n",
    "    print(4+\"4\")\n",
    "except:\n",
    "    print(\"muhtemelen yanlış bir şeyler yaptın\")"
   ]
  },
  {
   "cell_type": "code",
   "execution_count": 28,
   "metadata": {},
   "outputs": [
    {
     "name": "stdout",
     "output_type": "stream",
     "text": [
      "There is not such a file\n"
     ]
    }
   ],
   "source": [
    "try:\n",
    "    file=open(\"my_file.txt\",\"r\")\n",
    "    print(file.read())\n",
    "    file.close()\n",
    "except FileNotFoundError:\n",
    "    print(\"There is not such a file\")"
   ]
  },
  {
   "cell_type": "code",
   "execution_count": null,
   "metadata": {},
   "outputs": [],
   "source": [
    "while True:\n",
    "    no_one = int(input(\"The first number please : \"))\n",
    "    no_two = int(input(\"The second number please : \"))\n",
    "    try:\n",
    "        division = no_one / no_two  # normal part of the program\n",
    "    except ZeroDivisionError:\n",
    "        print(\"You can't divide by zero! Try again.\")  # executes when division by zero\n",
    "    else:\n",
    "        print(\"The result of the division is : \", division)  # executes if there is no exception\n",
    "    finally:\n",
    "        print(\"Thanks for using our mini divison calculator! Come again!\")\n",
    "        break  # exits the while loop"
   ]
  },
  {
   "cell_type": "code",
   "execution_count": null,
   "metadata": {},
   "outputs": [],
   "source": [
    "while True:\n",
    "    no_one = int(input(\"The first number please : \"))\n",
    "    no_two = int(input(\"The second number please : \"))\n",
    "    try:\n",
    "        division = no_one / no_two  # normal part of the program\n",
    "    except as Zero:\n",
    "        print(\"You can't divide by zero! Try again.\")  # executes when division by zero\n",
    "    else:\n",
    "        print(\"The result of the division is : \", division)  # executes if there is no exception\n",
    "    finally:\n",
    "        print(\"Thanks for using our mini divison calculator! Come again!\")\n",
    "        break  # exits the while loop"
   ]
  }
 ],
 "metadata": {
  "interpreter": {
   "hash": "4534adeab4963273a8b018f16fd2b3dc2b5ed7beaec456450e20317f249c8c14"
  },
  "kernelspec": {
   "display_name": "Python 3.8.8 64-bit ('base': conda)",
   "language": "python",
   "name": "python3"
  },
  "language_info": {
   "codemirror_mode": {
    "name": "ipython",
    "version": 3
   },
   "file_extension": ".py",
   "mimetype": "text/x-python",
   "name": "python",
   "nbconvert_exporter": "python",
   "pygments_lexer": "ipython3",
   "version": "3.8.8"
  },
  "orig_nbformat": 4
 },
 "nbformat": 4,
 "nbformat_minor": 2
}
