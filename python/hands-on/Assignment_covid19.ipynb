{
 "cells": [
  {
   "cell_type": "code",
   "execution_count": 28,
   "metadata": {},
   "outputs": [
    {
     "name": "stdout",
     "output_type": "stream",
     "text": [
      "You are not in risky group\n"
     ]
    }
   ],
   "source": [
    "\n",
    "age = input(\"Are you cigarette addict older than 75 years old?\")\n",
    "chronic = input(\"Do you have a severe chronic disease?\")\n",
    "immune = input(\"Is your immune system too weak\")\n",
    "if age  == \"yes\":\n",
    "    age  = True\n",
    "else:\n",
    "    age = False\n",
    "if chronic == \"yes\":\n",
    "    chronic = True\n",
    "else:\n",
    "    chronic = False\n",
    "if immune == \"yes\":\n",
    "    immune = True\n",
    "else:  \n",
    "    immune = False\n",
    "if age and chronic and immune:\n",
    "    print(\"You are in risky group\")\n",
    "else:\n",
    "    print(\"You are not in risky group\")"
   ]
  }
 ],
 "metadata": {
  "interpreter": {
   "hash": "4534adeab4963273a8b018f16fd2b3dc2b5ed7beaec456450e20317f249c8c14"
  },
  "kernelspec": {
   "display_name": "Python 3.8.8 64-bit ('base': conda)",
   "language": "python",
   "name": "python3"
  },
  "language_info": {
   "codemirror_mode": {
    "name": "ipython",
    "version": 3
   },
   "file_extension": ".py",
   "mimetype": "text/x-python",
   "name": "python",
   "nbconvert_exporter": "python",
   "pygments_lexer": "ipython3",
   "version": "3.8.8"
  },
  "orig_nbformat": 4
 },
 "nbformat": 4,
 "nbformat_minor": 2
}
