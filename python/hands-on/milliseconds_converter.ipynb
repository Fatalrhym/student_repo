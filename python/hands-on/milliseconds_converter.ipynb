{
 "cells": [
  {
   "cell_type": "code",
   "execution_count": 58,
   "metadata": {},
   "outputs": [
    {
     "name": "stdout",
     "output_type": "stream",
     "text": [
      " 2 hour/s 0 minute/s 0 second/s\n"
     ]
    }
   ],
   "source": [
    "while True:\n",
    "    milliseconds = input(('This program converts milliseconds into hours, minutes, and seconds (To exit the program, please type \"exit\") Please enter the milliseconds (should be greater than zero) : '))\n",
    "    seconds = int(milliseconds)//1000\n",
    "    minutes = int(milliseconds)//60000\n",
    "    hours = int(milliseconds)//3600000\n",
    "    if milliseconds.lower() == \"exit\":\n",
    "        print(\"Exiting the program... Good Bye\")\n",
    "        break\n",
    "    #elif milliseconds.isdigit() == False:\n",
    "        print(\"Not Valid Input !!!\")\n",
    "        continue\n",
    "    elif int(milliseconds) < 1000 :\n",
    "        print(f\" just {milliseconds} millisecond/s\")\n",
    "        break\n",
    "    elif 60000 > int(milliseconds) > 1000 :\n",
    "        print(f\" {seconds} second/s\")\n",
    "        break\n",
    "    elif 360000 > int(milliseconds) > 60000 :\n",
    "        if minutes == 1:\n",
    "            print(f\" {minutes} minute/s\")\n",
    "            break\n",
    "        else:\n",
    "            print(f\" {minutes} minute/s {seconds%60} second/s\")\n",
    "            break\n",
    "\n",
    "    elif int(milliseconds) > 3600000 :\n",
    "        if hours == 1:\n",
    "            print(f\" {hours} hour/s\")\n",
    "            break\n",
    "        else:\n",
    "            print(f\" {hours} hour/s {minutes%60} minute/s {seconds%60} second/s\")\n",
    "            break       \n",
    "        \n",
    "    else:\n",
    "        print(\"Not Valid Input !!!\")"
   ]
  },
  {
   "cell_type": "code",
   "execution_count": null,
   "metadata": {},
   "outputs": [],
   "source": [
    "# This program converts milliseconds into hours, minutes, and seconds\n",
    "# (To exit the program, please type \"exit\")\n",
    "# Please enter the milliseconds (should be greater than zero) :\n",
    "\n",
    "\n",
    "def calc_time(time):\n",
    "    time = int(time)\n",
    "    seconds=(time/1000)%60\n",
    "    seconds = int(seconds)\n",
    "    minutes=(time/(1000*60))%60\n",
    "    minutes = int(minutes)\n",
    "    hours=(time/(1000*60*60))%24\n",
    "\n",
    "    print (\"%d:%d:%d\" % (hours , minutes, seconds))\n",
    "\n",
    "while True:\n",
    "\n",
    "    time = input(\"Enter miliseconds to convert(Exit to terminate program): \")\n",
    "    \n",
    "    if time.lower()== \"exit\":\n",
    "        print(\"the program terminated\")\n",
    "        break\n",
    "    elif time.isdigit():\n",
    "        calc_time(time)\n",
    "        break\n",
    "    else:\n",
    "        print(\"Try again\")"
   ]
  }
 ],
 "metadata": {
  "interpreter": {
   "hash": "1a77833348a6a05d98e15657e93193bb8cd72ba122c15fc4032e7389abddf7af"
  },
  "kernelspec": {
   "display_name": "Python 3.8.10 64-bit",
   "language": "python",
   "name": "python3"
  },
  "language_info": {
   "codemirror_mode": {
    "name": "ipython",
    "version": 3
   },
   "file_extension": ".py",
   "mimetype": "text/x-python",
   "name": "python",
   "nbconvert_exporter": "python",
   "pygments_lexer": "ipython3",
   "version": "3.8.10"
  },
  "orig_nbformat": 4
 },
 "nbformat": 4,
 "nbformat_minor": 2
}
