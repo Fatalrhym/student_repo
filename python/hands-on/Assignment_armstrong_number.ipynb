{
 "cells": [
  {
   "cell_type": "markdown",
   "metadata": {},
   "source": [
    "armstrong numbers"
   ]
  },
  {
   "cell_type": "code",
   "execution_count": 9,
   "metadata": {},
   "outputs": [
    {
     "name": "stdout",
     "output_type": "stream",
     "text": [
      "4679307773 is not an Armstrong number\n"
     ]
    }
   ],
   "source": [
    "while True:\n",
    "    number = input(\"enter a positive integer numebr:\")\n",
    "    digits = len(number)\n",
    "    summ=0\n",
    "    if not number.isdigit():\n",
    "        print(number, \"is invalid entry. Enter valid input.\")\n",
    "    elif int(number) >= 0:\n",
    "        for i in range(digits):\n",
    "            summ = summ + int(number[i])**digits\n",
    "        if summ==int(number):\n",
    "            print(number, \"is an Armstrong number\")\n",
    "            break\n",
    "        else:\n",
    "            print(number, \"is not an Armstrong number\")\n",
    "            break\n",
    "    else:\n",
    "        print(number, \"is a negatif number\")\n"
   ]
  },
  {
   "cell_type": "code",
   "execution_count": 1,
   "metadata": {},
   "outputs": [
    {
     "name": "stdout",
     "output_type": "stream",
     "text": [
      "17  is a Prime Number\n"
     ]
    }
   ],
   "source": [
    "n = int(input(\"Enter a positive number to check if it is a Prime Number\"))\n",
    "counter = 0\n",
    "\n",
    "for i in range(1, n+1) :\n",
    "    if n % i == 0 :\n",
    "        counter += 1\n",
    "        \n",
    "if (n == 0) or (n == 1) or (counter >= 3) :\n",
    "    print(n, \" is not a Prime Number\")\n",
    "    \n",
    "else :\n",
    "    print(n, \" is a Prime Number\")"
   ]
  }
 ],
 "metadata": {
  "interpreter": {
   "hash": "4534adeab4963273a8b018f16fd2b3dc2b5ed7beaec456450e20317f249c8c14"
  },
  "kernelspec": {
   "display_name": "Python 3.8.8 64-bit ('base': conda)",
   "language": "python",
   "name": "python3"
  },
  "language_info": {
   "codemirror_mode": {
    "name": "ipython",
    "version": 3
   },
   "file_extension": ".py",
   "mimetype": "text/x-python",
   "name": "python",
   "nbconvert_exporter": "python",
   "pygments_lexer": "ipython3",
   "version": "3.8.10"
  },
  "orig_nbformat": 4
 },
 "nbformat": 4,
 "nbformat_minor": 2
}
