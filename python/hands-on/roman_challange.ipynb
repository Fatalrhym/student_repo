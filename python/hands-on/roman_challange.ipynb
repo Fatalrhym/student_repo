{
 "cells": [
  {
   "cell_type": "code",
   "execution_count": 66,
   "metadata": {},
   "outputs": [
    {
     "data": {
      "text/plain": [
       "'II'"
      ]
     },
     "execution_count": 66,
     "metadata": {},
     "output_type": "execute_result"
    }
   ],
   "source": [
    "roman = ['M', 'CM', 'D', 'CD', 'C', 'XC', 'L', 'XL', 'X', 'IX', 'V', 'IV', 'I']\n",
    "decimal = [1000, 900, 500, 400, 100, 90, 50, 40, 10, 9, 5, 4, 1]\n",
    "\n",
    "def dec2roman(number):\n",
    "    romanvalue = \"\"\n",
    "    if type(number) == float:\n",
    "        integer,fractor = str(number).split('.')\n",
    "        integer = int(integer)\n",
    "        while len(fractor) > 3:\n",
    "            fra = list(fractor)\n",
    "            fra.pop()\n",
    "            fractor = \"\".join(fra)\n",
    "        fractor = int(fractor)\n",
    "        return dec2roman(integer)+'.'+dec2roman(fractor)\n",
    "    for i, d in enumerate(decimal):\n",
    "        while (number >= d):\n",
    "            number -= d\n",
    "            romanvalue += roman[i]\n",
    "    return romanvalue\n",
    "dec2roman(2)"
   ]
  },
  {
   "cell_type": "code",
   "execution_count": 82,
   "metadata": {},
   "outputs": [
    {
     "name": "stdout",
     "output_type": "stream",
     "text": [
      "Not Valid Input !!!\n",
      "MMMCMXCIX\n"
     ]
    }
   ],
   "source": [
    "#sayı = input(\"###  This program converts decimal numbers to Roman Numerals ### (To exit the program, please type 'exit') Please enter a number between 1 and 3999, inclusively :\")\n",
    "while True: \n",
    "    sayı = input(\"###  This program converts decimal numbers to Roman Numerals ### (To exit the program, please type 'exit') Please enter a number between 1 and 3999, inclusively :\")  \n",
    "    if sayı.lower() == \"exit\":\n",
    "        print(\"Exiting the program... Good Bye\")\n",
    "        break\n",
    "    elif sayı.isdigit() == True:\n",
    "        if int(sayı)>3999 or int(sayı)<1:\n",
    "            print(\"Not Valid Input !!!\")\n",
    "            continue\n",
    "        else:\n",
    "            print(dec2roman(int(sayı)))\n",
    "            break\n",
    "    elif type(sayı) == str:\n",
    "        print(\"Not Valid Input !!!\")\n",
    "        break\n",
    "    \n",
    "\n",
    "\n"
   ]
  }
 ],
 "metadata": {
  "interpreter": {
   "hash": "1a77833348a6a05d98e15657e93193bb8cd72ba122c15fc4032e7389abddf7af"
  },
  "kernelspec": {
   "display_name": "Python 3.8.10 64-bit",
   "language": "python",
   "name": "python3"
  },
  "language_info": {
   "codemirror_mode": {
    "name": "ipython",
    "version": 3
   },
   "file_extension": ".py",
   "mimetype": "text/x-python",
   "name": "python",
   "nbconvert_exporter": "python",
   "pygments_lexer": "ipython3",
   "version": "3.8.10"
  },
  "orig_nbformat": 4
 },
 "nbformat": 4,
 "nbformat_minor": 2
}
