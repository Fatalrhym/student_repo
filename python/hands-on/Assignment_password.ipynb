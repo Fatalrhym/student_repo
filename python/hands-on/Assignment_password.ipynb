{
 "cells": [
  {
   "cell_type": "code",
   "execution_count": 2,
   "metadata": {},
   "outputs": [
    {
     "name": "stdout",
     "output_type": "stream",
     "text": [
      "Hello, Amina! See you later\n"
     ]
    }
   ],
   "source": [
    "name = \"fatih\"\n",
    "password = \"fatal\"\n",
    "input_name = input(\"what is your name?:\")\n",
    "if name == input_name:\n",
    "    print(\"Hello Fatih! The password is:{0}\".format(password))\n",
    "else:\n",
    "    print(\"Hello, {0}! See you later\".format(input_name))"
   ]
  }
 ],
 "metadata": {
  "interpreter": {
   "hash": "4534adeab4963273a8b018f16fd2b3dc2b5ed7beaec456450e20317f249c8c14"
  },
  "kernelspec": {
   "display_name": "Python 3.8.8 64-bit ('base': conda)",
   "language": "python",
   "name": "python3"
  },
  "language_info": {
   "codemirror_mode": {
    "name": "ipython",
    "version": 3
   },
   "file_extension": ".py",
   "mimetype": "text/x-python",
   "name": "python",
   "nbconvert_exporter": "python",
   "pygments_lexer": "ipython3",
   "version": "3.8.8"
  },
  "orig_nbformat": 4
 },
 "nbformat": 4,
 "nbformat_minor": 2
}
