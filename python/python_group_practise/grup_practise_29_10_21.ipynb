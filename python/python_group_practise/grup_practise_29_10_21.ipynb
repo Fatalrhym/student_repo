{
 "cells": [
  {
   "cell_type": "code",
   "execution_count": 2,
   "metadata": {},
   "outputs": [
    {
     "name": "stdout",
     "output_type": "stream",
     "text": [
      "\n",
      "\n",
      "                                  1 \n",
      "                              1      1 \n",
      "                          1      2      1 \n",
      "                      1      3      3      1 \n",
      "                  1      4      6      4      1 \n",
      "              1      5     10     10      5      1 \n",
      "          1      6     15     20     15      6      1 \n"
     ]
    }
   ],
   "source": [
    "n=int(input(\"Enter no of rows:\"))\n",
    "print('\\n')\n",
    "a=[]\n",
    "for i in range(n):\n",
    "    a.append([])\n",
    "    a[i].append(1)\n",
    "    for j in range (1,i):\n",
    "        a[i].append(a[i-1][j-1]+a[i-1][j])\n",
    "    if (n!=0):\n",
    "        a[i].append(1)\n",
    "for i in range(n):\n",
    "    print(\"    \"*(n-i),end=\" \",sep=\" \")\n",
    "    for j in range(0,i+1):\n",
    "        print(\"{0:6}\".format(a[i][j]),end=\" \",sep=\" \")\n",
    "    print()"
   ]
  },
  {
   "cell_type": "code",
   "execution_count": null,
   "metadata": {},
   "outputs": [],
   "source": [
    "a = [[1,1], [1,1], [1, 2, 1], [1, 3, 3, 1]]"
   ]
  },
  {
   "cell_type": "code",
   "execution_count": null,
   "metadata": {},
   "outputs": [],
   "source": [
    "pascal =[[1],[1,1]]\n",
    "for i in range(2,10):\n",
    "  liste=[1]\n",
    "  for j in range(1,i):\n",
    "    liste.append(pascal[i-1][j-1]+pascal[i-1][j])\n",
    "  liste.append(1)\n",
    "  pascal.append(liste)\n",
    "for i in pascal:\n",
    "  print(i)\n"
   ]
  },
  {
   "cell_type": "code",
   "execution_count": 15,
   "metadata": {},
   "outputs": [
    {
     "name": "stdout",
     "output_type": "stream",
     "text": [
      "['37', '307', '317', '327', '337', '347', '357', '367', '377', '387', '397', '3007', '3017', '3027', '3037', '3047', '3057', '3067', '3077', '3087', '3097', '3107', '3117', '3127', '3137', '3147', '3157', '3167', '3177', '3187', '3197', '3207', '3217', '3227', '3237', '3247', '3257', '3267', '3277', '3287', '3297', '3307', '3317', '3327', '3337', '3347', '3357', '3367', '3377', '3387', '3397', '3407', '3417', '3427', '3437', '3447', '3457', '3467', '3477', '3487', '3497', '3507', '3517', '3527', '3537', '3547', '3557', '3567', '3577', '3587', '3597', '3607', '3617', '3627', '3637', '3647', '3657', '3667', '3677', '3687', '3697', '3707', '3717', '3727', '3737', '3747', '3757', '3767', '3777', '3787', '3797', '3807', '3817', '3827', '3837', '3847', '3857', '3867', '3877', '3887', '3897', '3907', '3917', '3927', '3937', '3947', '3957', '3967', '3977', '3987', '3997']\n"
     ]
    }
   ],
   "source": [
    "liste = []\n",
    "\n",
    "    i = str(i)for i in range(1,10000):\n",
    "    if i.startswith(\"3\") and i.endswith(\"7\"):\n",
    "        liste.append(i)\n",
    "print(liste)"
   ]
  },
  {
   "cell_type": "code",
   "execution_count": 55,
   "metadata": {},
   "outputs": [
    {
     "ename": "KeyboardInterrupt",
     "evalue": "",
     "output_type": "error",
     "traceback": [
      "\u001b[1;31m---------------------------------------------------------------------------\u001b[0m",
      "\u001b[1;31mKeyboardInterrupt\u001b[0m                         Traceback (most recent call last)",
      "\u001b[1;32m<ipython-input-55-4626b04b0b27>\u001b[0m in \u001b[0;36m<module>\u001b[1;34m\u001b[0m\n\u001b[0;32m      3\u001b[0m \u001b[1;32mwhile\u001b[0m \u001b[1;32mTrue\u001b[0m\u001b[1;33m:\u001b[0m\u001b[1;33m\u001b[0m\u001b[1;33m\u001b[0m\u001b[0m\n\u001b[0;32m      4\u001b[0m         \u001b[0mprime\u001b[0m \u001b[1;33m=\u001b[0m \u001b[1;32mTrue\u001b[0m\u001b[1;33m\u001b[0m\u001b[1;33m\u001b[0m\u001b[0m\n\u001b[1;32m----> 5\u001b[1;33m         \u001b[1;32mfor\u001b[0m \u001b[0mi\u001b[0m \u001b[1;32min\u001b[0m \u001b[0mrange\u001b[0m\u001b[1;33m(\u001b[0m\u001b[1;36m2\u001b[0m\u001b[1;33m,\u001b[0m\u001b[0mint\u001b[0m\u001b[1;33m(\u001b[0m\u001b[0msayı\u001b[0m\u001b[1;33m**\u001b[0m\u001b[1;36m0.5\u001b[0m\u001b[1;33m+\u001b[0m\u001b[1;36m1\u001b[0m\u001b[1;33m)\u001b[0m\u001b[1;33m)\u001b[0m\u001b[1;33m:\u001b[0m\u001b[1;33m\u001b[0m\u001b[1;33m\u001b[0m\u001b[0m\n\u001b[0m\u001b[0;32m      6\u001b[0m                 \u001b[1;32mif\u001b[0m \u001b[0msayı\u001b[0m \u001b[1;33m%\u001b[0m \u001b[0mi\u001b[0m \u001b[1;33m==\u001b[0m \u001b[1;36m0\u001b[0m \u001b[1;33m:\u001b[0m\u001b[1;33m\u001b[0m\u001b[1;33m\u001b[0m\u001b[0m\n\u001b[0;32m      7\u001b[0m                         \u001b[0mprime\u001b[0m\u001b[1;33m=\u001b[0m\u001b[1;32mFalse\u001b[0m\u001b[1;33m\u001b[0m\u001b[1;33m\u001b[0m\u001b[0m\n",
      "\u001b[1;31mKeyboardInterrupt\u001b[0m: "
     ]
    }
   ],
   "source": [
    "asal_sayılar = []\n",
    "sayı=3\n",
    "while True:\n",
    "        prime = True\n",
    "        for i in range(2,int(sayı**0.5+1)):\n",
    "                if sayı % i == 0 :\n",
    "                        prime=False\n",
    "                        break\n",
    "\n",
    "        if prime:\n",
    "                asal_sayılar.append(sayı)\n",
    "                if len(asal_sayılar) ==10000:               \n",
    "                        sayı += 1\n",
    "\n",
    "                 \n",
    "print(asal_sayılar)\n",
    "\n",
    "\n",
    "\n"
   ]
  },
  {
   "cell_type": "code",
   "execution_count": 24,
   "metadata": {},
   "outputs": [
    {
     "name": "stdout",
     "output_type": "stream",
     "text": [
      "270\n"
     ]
    }
   ],
   "source": [
    "asal_sayılar = [1,2]\n",
    "num = 3\n",
    "while len(asal_sayılar)<10000:\n",
    "    for i in range(2,num):\n",
    "        if num%i==0:\n",
    "            break\n",
    "    else:\n",
    "        asal_sayılar.append(num)\n",
    "    num+=1\n",
    "num = str(num)\n",
    "           \n",
    "print(len([i for i in asal_sayılar if str(i).startswith(\"3\") and str(i).endswith(\"7\")]))\n"
   ]
  },
  {
   "cell_type": "code",
   "execution_count": 26,
   "metadata": {},
   "outputs": [
    {
     "name": "stdout",
     "output_type": "stream",
     "text": [
      "[0, 1, 1, 2, 3, 5, 8, 13, 21, 34, 55, 89, 144, 233, 377, 610, 987, 1597, 2584, 4181, 6765, 10946, 17711, 28657, 46368, 75025, 121393, 196418, 317811, 514229, 832040, 1346269, 2178309, 3524578, 5702887, 9227465, 14930352, 24157817, 39088169, 63245986, 102334155, 165580141, 267914296, 433494437, 701408733, 1134903170, 1836311903, 2971215073, 4807526976, 7778742049, 12586269025, 20365011074, 32951280099, 53316291173, 86267571272, 139583862445, 225851433717, 365435296162, 591286729879, 956722026041, 1548008755920, 2504730781961, 4052739537881, 6557470319842, 10610209857723, 17167680177565, 27777890035288, 44945570212853, 72723460248141, 117669030460994, 190392490709135, 308061521170129, 498454011879264, 806515533049393, 1304969544928657, 2111485077978050, 3416454622906707, 5527939700884757, 8944394323791464, 14472334024676221, 23416728348467685, 37889062373143906, 61305790721611591, 99194853094755497, 160500643816367088, 259695496911122585, 420196140727489673, 679891637638612258, 1100087778366101931, 1779979416004714189, 2880067194370816120, 4660046610375530309, 7540113804746346429, 12200160415121876738, 19740274219868223167, 31940434634990099905, 51680708854858323072, 83621143489848422977, 135301852344706746049]\n"
     ]
    }
   ],
   "source": [
    "liste = [0, 1]\n",
    "a , b = 0, 1\n",
    "\n",
    "for i in range(3,100):\n",
    "    a , b = b, a+b\n",
    "    liste.append(b)\n",
    "print(liste)\n"
   ]
  },
  {
   "cell_type": "code",
   "execution_count": 28,
   "metadata": {},
   "outputs": [
    {
     "name": "stdout",
     "output_type": "stream",
     "text": [
      "1-2-3-5-8-13-21-34-55-89-144-233-377-610-987-1597-2584-4181-6765-10946-17711-28657-46368-75025-121393-196418-317811-514229-832040-1346269-2178309-3524578-5702887-9227465-14930352-24157817-39088169-63245986-102334155-165580141-267914296-433494437-701408733-1134903170-1836311903-2971215073-4807526976-7778742049-12586269025-20365011074-32951280099-53316291173-86267571272-139583862445-225851433717-365435296162-591286729879-956722026041-1548008755920-2504730781961-4052739537881-6557470319842-10610209857723-17167680177565-27777890035288-44945570212853-72723460248141-117669030460994-190392490709135-308061521170129-498454011879264-806515533049393-1304969544928657-2111485077978050-3416454622906707-5527939700884757-8944394323791464-14472334024676221-23416728348467685-37889062373143906-61305790721611591-99194853094755497-160500643816367088-259695496911122585-420196140727489673-679891637638612258-1100087778366101931-1779979416004714189-2880067194370816120-4660046610375530309-7540113804746346429-12200160415121876738-19740274219868223167-31940434634990099905-51680708854858323072-83621143489848422977-135301852344706746049-218922995834555169026-354224848179261915075-573147844013817084101-927372692193078999176-<class 'int'>\n"
     ]
    }
   ],
   "source": [
    "num1=0\n",
    "num2=1\n",
    "count=0\n",
    "\n",
    "for i in range(101):\n",
    "  num3=num1+num2\n",
    "  num1=num2\n",
    "  num2=num3\n",
    "  print(num3, end=\"-\")\n",
    "count += 1\n"
   ]
  },
  {
   "cell_type": "code",
   "execution_count": 29,
   "metadata": {},
   "outputs": [
    {
     "name": "stdout",
     "output_type": "stream",
     "text": [
      "100\n",
      "1344719667586153181419716641724567886890850696275767987106294472017884974410332069524504824747437757\n",
      "476\n"
     ]
    }
   ],
   "source": [
    "a,b = 0,1\n",
    "fibonacci = [a,b]\n",
    "while len(str(b)) != 100 :\n",
    "  a,b = b,a+ b\n",
    "  fibonacci += [b]\n",
    "  if len(str(b)) == 100 :\n",
    "    fibonacci += [b]\n",
    "    break\n",
    "print(len(str(fibonacci[-1])))\n",
    "print(fibonacci[-1])\n",
    "print(fibonacci.index(fibonacci[-1]))\n"
   ]
  },
  {
   "cell_type": "code",
   "execution_count": null,
   "metadata": {},
   "outputs": [],
   "source": [
    "s = \"luffy is still joyboy\"\n",
    "s= s.strip()"
   ]
  },
  {
   "cell_type": "code",
   "execution_count": 30,
   "metadata": {},
   "outputs": [
    {
     "data": {
      "text/plain": [
       "'bb'"
      ]
     },
     "execution_count": 30,
     "metadata": {},
     "output_type": "execute_result"
    }
   ],
   "source": [
    "max_len = 0\n",
    "max_sub = \"\"\n",
    "s = input(\"\")\n",
    "for i in range(len(s)) :\n",
    "  for j in range(1, len(s)+1):\n",
    "    substring = s[i:j]\n",
    "    if (substring == substring[::-1]) and (len(substring)> max_len) :\n",
    "      max_sub = substring\n",
    "      max_len = len(substring)\n",
    "\n",
    "max_sub\n"
   ]
  },
  {
   "cell_type": "code",
   "execution_count": null,
   "metadata": {},
   "outputs": [],
   "source": []
  }
 ],
 "metadata": {
  "interpreter": {
   "hash": "4534adeab4963273a8b018f16fd2b3dc2b5ed7beaec456450e20317f249c8c14"
  },
  "kernelspec": {
   "display_name": "Python 3.8.8 64-bit ('base': conda)",
   "name": "python3"
  },
  "language_info": {
   "codemirror_mode": {
    "name": "ipython",
    "version": 3
   },
   "file_extension": ".py",
   "mimetype": "text/x-python",
   "name": "python",
   "nbconvert_exporter": "python",
   "pygments_lexer": "ipython3",
   "version": "3.8.8"
  },
  "orig_nbformat": 4
 },
 "nbformat": 4,
 "nbformat_minor": 2
}
