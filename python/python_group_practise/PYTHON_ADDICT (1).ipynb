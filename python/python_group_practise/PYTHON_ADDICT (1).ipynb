{
  "nbformat": 4,
  "nbformat_minor": 0,
  "metadata": {
    "colab": {
      "name": "PYTHON-ADDICT.ipynb",
      "provenance": [],
      "collapsed_sections": []
    },
    "kernelspec": {
      "name": "python3",
      "display_name": "Python 3"
    },
    "language_info": {
      "name": "python"
    }
  },
  "cells": [
    {
      "cell_type": "markdown",
      "metadata": {
        "id": "RTD7U9Y-2XQC"
      },
      "source": [
        "**Try to print a multiplication table with numbers from 1 to 10.**"
      ]
    },
    {
      "cell_type": "code",
      "metadata": {
        "colab": {
          "base_uri": "https://localhost:8080/"
        },
        "id": "uWxF05o32O9H",
        "outputId": "2f8f2d79-1eb7-46b3-f25d-dd941655645c"
      },
      "source": [
        "num = int(input(\"Please enter a number : \"))\n",
        "for i in range(11):\n",
        "  print(\"{} x {} = {}\".format(num,i,num*i))"
      ],
      "execution_count": null,
      "outputs": [
        {
          "output_type": "stream",
          "name": "stdout",
          "text": [
            "Please enter a number : 3\n",
            "3 x 0 = 0\n",
            "3 x 1 = 3\n",
            "3 x 2 = 6\n",
            "3 x 3 = 9\n",
            "3 x 4 = 12\n",
            "3 x 5 = 15\n",
            "3 x 6 = 18\n",
            "3 x 7 = 21\n",
            "3 x 8 = 24\n",
            "3 x 9 = 27\n",
            "3 x 10 = 30\n"
          ]
        }
      ]
    },
    {
      "cell_type": "markdown",
      "metadata": {
        "id": "cSzXadHx2xY8"
      },
      "source": [
        "**A number from the user will be set to be \"Armstrong.\n",
        "For example, if a number has 4 digits and is equal to the 4th (3rd power for 3-digit numbers) of each of its surroundings, this number is called the \"Armstrong\" number.**"
      ]
    },
    {
      "cell_type": "code",
      "metadata": {
        "id": "Ntj17UUT2fEI"
      },
      "source": [
        "num = input(\"\")\n",
        "toplam = sum([int(i) ** len(num) for i in num])\n",
        "\n",
        "if int(num) == toplam :\n",
        "  print(num, \"is a armstrong number\")\n",
        "else:\n",
        "  print(num, \"is not a armstrong number\")\n"
      ],
      "execution_count": null,
      "outputs": []
    },
    {
      "cell_type": "markdown",
      "metadata": {
        "id": "1zyUT4IB25Zx"
      },
      "source": [
        "**Write a program to find all the Armstrong numbers present in between two intervals in Python. For example, Armstrong numbers between 100 and 2000.**"
      ]
    },
    {
      "cell_type": "code",
      "metadata": {
        "id": "pBYcRCAO283a",
        "colab": {
          "base_uri": "https://localhost:8080/"
        },
        "outputId": "fc753be4-5615-4ea8-cc02-c30c53964992"
      },
      "source": [
        "# let’s find a similar one to this question, friends.\n",
        "# write a program to find all the Armstrong numbers present in between two intervals in Python. For example, Armstrong numbers between 100 and 2000. Expected output:\n",
        "# 153\n",
        "# 370\n",
        "# 371\n",
        "# 407\n",
        "# 1634\n",
        "\n",
        "lower_num, higher_num = list(map(int, input(\"\").split()))\n",
        "for i in range(lower_num, higher_num+1) :\n",
        "  if sum([int(j) ** len(str(i)) for j in str(i)]) == i :\n",
        "    print(i)"
      ],
      "execution_count": null,
      "outputs": [
        {
          "output_type": "stream",
          "name": "stdout",
          "text": [
            "100 2000\n",
            "153\n",
            "370\n",
            "371\n",
            "407\n",
            "1634\n"
          ]
        }
      ]
    },
    {
      "cell_type": "markdown",
      "metadata": {
        "id": "nqDcMfRm-hjg"
      },
      "source": [
        "**1 x 1 = 1**\n",
        "\n",
        "**1 x 2 = 2**\n",
        "\n",
        "**1 x 3 = 3**\n",
        "\n",
        "**1 x 4 = 4**\n",
        "\n",
        "**1 x 5 = 5**\n",
        "\n",
        "**1 x 6 = 6**\n",
        "\n",
        "**1 x 7 = 7**\n",
        "\n",
        "**1 x 8 = 8**\n",
        "\n",
        "**1 x 9 = 9**\n",
        "\n",
        "**1 x 10 = 10**\n",
        "\n",
        "***********\n",
        "**2 x 1 = 2**\n",
        "\n",
        "**2 x 2 = 4**\n",
        "\n",
        "**2 x 3 = 6**\n",
        "\n",
        "**2 x 4 = 8**\n",
        "\n",
        "**1 den 10 a kadar çarpım tablosunu örnekteki gibi yazdırın**"
      ]
    },
    {
      "cell_type": "code",
      "metadata": {
        "colab": {
          "base_uri": "https://localhost:8080/"
        },
        "id": "vxlthKzd-3jO",
        "outputId": "7a82567c-8ead-42a1-dfa4-90b8f675775a"
      },
      "source": [
        "for i in range(1,11) :\n",
        "  for j in range(1,11):\n",
        "    print(\"{} x {} = {}\".format(i,j,j*i))\n",
        "  print(\"*\" * 10)"
      ],
      "execution_count": null,
      "outputs": [
        {
          "output_type": "stream",
          "name": "stdout",
          "text": [
            "1 x 1 = 1\n",
            "1 x 2 = 2\n",
            "1 x 3 = 3\n",
            "1 x 4 = 4\n",
            "1 x 5 = 5\n",
            "1 x 6 = 6\n",
            "1 x 7 = 7\n",
            "1 x 8 = 8\n",
            "1 x 9 = 9\n",
            "1 x 10 = 10\n",
            "**********\n",
            "2 x 1 = 2\n",
            "2 x 2 = 4\n",
            "2 x 3 = 6\n",
            "2 x 4 = 8\n",
            "2 x 5 = 10\n",
            "2 x 6 = 12\n",
            "2 x 7 = 14\n",
            "2 x 8 = 16\n",
            "2 x 9 = 18\n",
            "2 x 10 = 20\n",
            "**********\n",
            "3 x 1 = 3\n",
            "3 x 2 = 6\n",
            "3 x 3 = 9\n",
            "3 x 4 = 12\n",
            "3 x 5 = 15\n",
            "3 x 6 = 18\n",
            "3 x 7 = 21\n",
            "3 x 8 = 24\n",
            "3 x 9 = 27\n",
            "3 x 10 = 30\n",
            "**********\n",
            "4 x 1 = 4\n",
            "4 x 2 = 8\n",
            "4 x 3 = 12\n",
            "4 x 4 = 16\n",
            "4 x 5 = 20\n",
            "4 x 6 = 24\n",
            "4 x 7 = 28\n",
            "4 x 8 = 32\n",
            "4 x 9 = 36\n",
            "4 x 10 = 40\n",
            "**********\n",
            "5 x 1 = 5\n",
            "5 x 2 = 10\n",
            "5 x 3 = 15\n",
            "5 x 4 = 20\n",
            "5 x 5 = 25\n",
            "5 x 6 = 30\n",
            "5 x 7 = 35\n",
            "5 x 8 = 40\n",
            "5 x 9 = 45\n",
            "5 x 10 = 50\n",
            "**********\n",
            "6 x 1 = 6\n",
            "6 x 2 = 12\n",
            "6 x 3 = 18\n",
            "6 x 4 = 24\n",
            "6 x 5 = 30\n",
            "6 x 6 = 36\n",
            "6 x 7 = 42\n",
            "6 x 8 = 48\n",
            "6 x 9 = 54\n",
            "6 x 10 = 60\n",
            "**********\n",
            "7 x 1 = 7\n",
            "7 x 2 = 14\n",
            "7 x 3 = 21\n",
            "7 x 4 = 28\n",
            "7 x 5 = 35\n",
            "7 x 6 = 42\n",
            "7 x 7 = 49\n",
            "7 x 8 = 56\n",
            "7 x 9 = 63\n",
            "7 x 10 = 70\n",
            "**********\n",
            "8 x 1 = 8\n",
            "8 x 2 = 16\n",
            "8 x 3 = 24\n",
            "8 x 4 = 32\n",
            "8 x 5 = 40\n",
            "8 x 6 = 48\n",
            "8 x 7 = 56\n",
            "8 x 8 = 64\n",
            "8 x 9 = 72\n",
            "8 x 10 = 80\n",
            "**********\n",
            "9 x 1 = 9\n",
            "9 x 2 = 18\n",
            "9 x 3 = 27\n",
            "9 x 4 = 36\n",
            "9 x 5 = 45\n",
            "9 x 6 = 54\n",
            "9 x 7 = 63\n",
            "9 x 8 = 72\n",
            "9 x 9 = 81\n",
            "9 x 10 = 90\n",
            "**********\n",
            "10 x 1 = 10\n",
            "10 x 2 = 20\n",
            "10 x 3 = 30\n",
            "10 x 4 = 40\n",
            "10 x 5 = 50\n",
            "10 x 6 = 60\n",
            "10 x 7 = 70\n",
            "10 x 8 = 80\n",
            "10 x 9 = 90\n",
            "10 x 10 = 100\n",
            "**********\n"
          ]
        }
      ]
    },
    {
      "cell_type": "markdown",
      "metadata": {
        "id": "FFWSz2O1BaKj"
      },
      "source": [
        "![image (2).png](data:image/png;base64,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)"
      ]
    },
    {
      "cell_type": "code",
      "metadata": {
        "colab": {
          "base_uri": "https://localhost:8080/"
        },
        "id": "JAr2_AjdCsNO",
        "outputId": "a144c10d-ee0f-4398-a226-8f3cd6834a0c"
      },
      "source": [
        "j = 1\n",
        "while j <= 10 :\n",
        "  for i in range(1,11) :\n",
        "    if len(str(i))==1 and len(str(j))==1 and len(str(i*j))==1:\n",
        "      print(\" {} x  {} =   {}\".format(i,j,i*j), end = \"|\")\n",
        "    elif len(str(i))==1 and len(str(j))==1 and len(str(i*j))==2:\n",
        "      print(\" {} x  {} =  {}\".format(i,j,i*j), end = \"|\")\n",
        "    elif len(str(i))==2 and len(str(j))==1 and len(str(i*j))==2:\n",
        "      print(\"{} x  {} =  {}\".format(i,j,i*j), end = \"|\")\n",
        "    elif len(str(i))==1 and len(str(j))==2 and len(str(i*j))==2:\n",
        "      print(\" {} x {} =  {}\".format(i,j,i*j), end = \"|\")\n",
        "    elif len(str(i))==2 and len(str(j))==2 and len(str(i*j))==3:\n",
        "      print(\"{} x {} = {}\".format(i,j,i*j), end = \"|\")\n",
        "    else:\n",
        "      print(\" {} x {} ={}\".format(i,j,i*j), end = \"|\")\n",
        "  j += 1\n",
        "  print()"
      ],
      "execution_count": null,
      "outputs": [
        {
          "output_type": "stream",
          "name": "stdout",
          "text": [
            " 1 x  1 =   1| 2 x  1 =   2| 3 x  1 =   3| 4 x  1 =   4| 5 x  1 =   5| 6 x  1 =   6| 7 x  1 =   7| 8 x  1 =   8| 9 x  1 =   9|10 x  1 =  10|\n",
            " 1 x  2 =   2| 2 x  2 =   4| 3 x  2 =   6| 4 x  2 =   8| 5 x  2 =  10| 6 x  2 =  12| 7 x  2 =  14| 8 x  2 =  16| 9 x  2 =  18|10 x  2 =  20|\n",
            " 1 x  3 =   3| 2 x  3 =   6| 3 x  3 =   9| 4 x  3 =  12| 5 x  3 =  15| 6 x  3 =  18| 7 x  3 =  21| 8 x  3 =  24| 9 x  3 =  27|10 x  3 =  30|\n",
            " 1 x  4 =   4| 2 x  4 =   8| 3 x  4 =  12| 4 x  4 =  16| 5 x  4 =  20| 6 x  4 =  24| 7 x  4 =  28| 8 x  4 =  32| 9 x  4 =  36|10 x  4 =  40|\n",
            " 1 x  5 =   5| 2 x  5 =  10| 3 x  5 =  15| 4 x  5 =  20| 5 x  5 =  25| 6 x  5 =  30| 7 x  5 =  35| 8 x  5 =  40| 9 x  5 =  45|10 x  5 =  50|\n",
            " 1 x  6 =   6| 2 x  6 =  12| 3 x  6 =  18| 4 x  6 =  24| 5 x  6 =  30| 6 x  6 =  36| 7 x  6 =  42| 8 x  6 =  48| 9 x  6 =  54|10 x  6 =  60|\n",
            " 1 x  7 =   7| 2 x  7 =  14| 3 x  7 =  21| 4 x  7 =  28| 5 x  7 =  35| 6 x  7 =  42| 7 x  7 =  49| 8 x  7 =  56| 9 x  7 =  63|10 x  7 =  70|\n",
            " 1 x  8 =   8| 2 x  8 =  16| 3 x  8 =  24| 4 x  8 =  32| 5 x  8 =  40| 6 x  8 =  48| 7 x  8 =  56| 8 x  8 =  64| 9 x  8 =  72|10 x  8 =  80|\n",
            " 1 x  9 =   9| 2 x  9 =  18| 3 x  9 =  27| 4 x  9 =  36| 5 x  9 =  45| 6 x  9 =  54| 7 x  9 =  63| 8 x  9 =  72| 9 x  9 =  81|10 x  9 =  90|\n",
            " 1 x 10 =  10| 2 x 10 =  20| 3 x 10 =  30| 4 x 10 =  40| 5 x 10 =  50| 6 x 10 =  60| 7 x 10 =  70| 8 x 10 =  80| 9 x 10 =  90|10 x 10 = 100|\n"
          ]
        }
      ]
    },
    {
      "cell_type": "code",
      "metadata": {
        "colab": {
          "base_uri": "https://localhost:8080/"
        },
        "id": "Uggxk8Mti7tE",
        "outputId": "73a4fa0b-552b-41ce-f7ec-f691c9a70ea9"
      },
      "source": [
        "for i in range(1,11):\n",
        " for j in range(1,11):\n",
        "  print(format(j,\"2d\"),\"x\",format(i,\"2d\"),\"=\",format(i*j,\"3d\"),\"|\", end=\"\")\n",
        " print()"
      ],
      "execution_count": null,
      "outputs": [
        {
          "output_type": "stream",
          "name": "stdout",
          "text": [
            " 1 x  1 =   1 | 2 x  1 =   2 | 3 x  1 =   3 | 4 x  1 =   4 | 5 x  1 =   5 | 6 x  1 =   6 | 7 x  1 =   7 | 8 x  1 =   8 | 9 x  1 =   9 |10 x  1 =  10 |\n",
            " 1 x  2 =   2 | 2 x  2 =   4 | 3 x  2 =   6 | 4 x  2 =   8 | 5 x  2 =  10 | 6 x  2 =  12 | 7 x  2 =  14 | 8 x  2 =  16 | 9 x  2 =  18 |10 x  2 =  20 |\n",
            " 1 x  3 =   3 | 2 x  3 =   6 | 3 x  3 =   9 | 4 x  3 =  12 | 5 x  3 =  15 | 6 x  3 =  18 | 7 x  3 =  21 | 8 x  3 =  24 | 9 x  3 =  27 |10 x  3 =  30 |\n",
            " 1 x  4 =   4 | 2 x  4 =   8 | 3 x  4 =  12 | 4 x  4 =  16 | 5 x  4 =  20 | 6 x  4 =  24 | 7 x  4 =  28 | 8 x  4 =  32 | 9 x  4 =  36 |10 x  4 =  40 |\n",
            " 1 x  5 =   5 | 2 x  5 =  10 | 3 x  5 =  15 | 4 x  5 =  20 | 5 x  5 =  25 | 6 x  5 =  30 | 7 x  5 =  35 | 8 x  5 =  40 | 9 x  5 =  45 |10 x  5 =  50 |\n",
            " 1 x  6 =   6 | 2 x  6 =  12 | 3 x  6 =  18 | 4 x  6 =  24 | 5 x  6 =  30 | 6 x  6 =  36 | 7 x  6 =  42 | 8 x  6 =  48 | 9 x  6 =  54 |10 x  6 =  60 |\n",
            " 1 x  7 =   7 | 2 x  7 =  14 | 3 x  7 =  21 | 4 x  7 =  28 | 5 x  7 =  35 | 6 x  7 =  42 | 7 x  7 =  49 | 8 x  7 =  56 | 9 x  7 =  63 |10 x  7 =  70 |\n",
            " 1 x  8 =   8 | 2 x  8 =  16 | 3 x  8 =  24 | 4 x  8 =  32 | 5 x  8 =  40 | 6 x  8 =  48 | 7 x  8 =  56 | 8 x  8 =  64 | 9 x  8 =  72 |10 x  8 =  80 |\n",
            " 1 x  9 =   9 | 2 x  9 =  18 | 3 x  9 =  27 | 4 x  9 =  36 | 5 x  9 =  45 | 6 x  9 =  54 | 7 x  9 =  63 | 8 x  9 =  72 | 9 x  9 =  81 |10 x  9 =  90 |\n",
            " 1 x 10 =  10 | 2 x 10 =  20 | 3 x 10 =  30 | 4 x 10 =  40 | 5 x 10 =  50 | 6 x 10 =  60 | 7 x 10 =  70 | 8 x 10 =  80 | 9 x 10 =  90 |10 x 10 = 100 |\n"
          ]
        }
      ]
    },
    {
      "cell_type": "markdown",
      "metadata": {
        "id": "waGEzTSgiiFx"
      },
      "source": [
        "**Write a Python program which iterates the integers from 1 to 50. For multiples of three print \"Fizz\" instead of the number and for the multiples of five print \"Buzz\". For numbers which are multiples of both three and five print \"FizzBuzz\". Sample Output : fizzbuzz 1 2 fizz 4 buzz**"
      ]
    },
    {
      "cell_type": "code",
      "metadata": {
        "id": "KcnAHbmkobXJ"
      },
      "source": [
        "n = 50\n",
        "for i in range(1,n+1):\n",
        "    if not i % 15:\n",
        "       print(\"FizzBuzz\")\n",
        "    elif not i % 5:\n",
        "        print(\"Buzz\")\n",
        "    elif not i % 3:\n",
        "        print(\"Fizz\")\n",
        "    else:\n",
        "        print(i)"
      ],
      "execution_count": null,
      "outputs": []
    },
    {
      "cell_type": "markdown",
      "metadata": {
        "id": "vewkhZ-5kU4d"
      },
      "source": [
        "**In each while loop, take a number from the user and add the numbers entered by the user to a variable named \"sum\". When the user presses the \"q\" key, terminate the loop and print the \"sum variable\" to the screen.**"
      ]
    },
    {
      "cell_type": "code",
      "metadata": {
        "colab": {
          "base_uri": "https://localhost:8080/"
        },
        "id": "TyyPbQwCkZPd",
        "outputId": "b29a18b3-9800-4e40-9dfc-e63f797f7862"
      },
      "source": [
        "toplam = 0\n",
        "while True :\n",
        "  num = input(\"Please enter number, press q to quit \")\n",
        "  if num == \"q\" :\n",
        "    break\n",
        "  else :\n",
        "    toplam += int(num)\n",
        "\n",
        "print(\"sum of numbers : \" , toplam)\n"
      ],
      "execution_count": null,
      "outputs": [
        {
          "output_type": "stream",
          "name": "stdout",
          "text": [
            "Please enter number, press q to quit 5\n",
            "Please enter number, press q to quit 7\n",
            "Please enter number, press q to quit 9\n",
            "Please enter number, press q to quit 11\n",
            "Please enter number, press q to quit q\n",
            "sum of numbers :  32\n"
          ]
        }
      ]
    },
    {
      "cell_type": "markdown",
      "metadata": {
        "id": "dGpuRAit2zgJ"
      },
      "source": [
        "**A jumbled list is given whose elements are consecutive numbers. Write python code that outputs even numbers of missing numbers that are between the smallest element and the largest element of the list, but not shown in the list.**\n",
        "\n",
        "**Input**\n",
        "\n",
        "**liste = [48, 10, 11, 21, 36, 5, 6, 52, 28, 29, 53, 54, 45, 19, 20, 47, 55, 39, 41, 7, 9, 17, 26, 27, 42, 22, 37, 51, 46, 18, 44, 30, 34, 13, 15, 35, 33, 16, 50, 24]**\n",
        "\n",
        "**Expected Output:\n",
        "8 12 14 32 38 40**"
      ]
    },
    {
      "cell_type": "code",
      "metadata": {
        "id": "7cNQAMoLpaIu",
        "colab": {
          "base_uri": "https://localhost:8080/"
        },
        "outputId": "b3f005fa-8ff7-480c-b5fe-8b0425b64d2d"
      },
      "source": [
        "liste = [48, 10, 11, 21, 36, 5, 6, 52, 28, 29, 53, 54, 45, 19, 20, 47, 55, 39, 41, 7, 9, 17, 26, 27, 42, 22, 37, 51, 46, 18, 44, 30, 34, 13, 15, 35, 33, 16, 50, 24]\n",
        " \n",
        "missing_nums = [i for i in range(min(liste), max(liste)+1) if i % 2 == 0 and not i in liste]\n",
        "print(* missing_nums)"
      ],
      "execution_count": null,
      "outputs": [
        {
          "output_type": "stream",
          "name": "stdout",
          "text": [
            "8 12 14 32 38 40\n"
          ]
        }
      ]
    },
    {
      "cell_type": "code",
      "metadata": {
        "id": "yZXTWmVd3dl0",
        "colab": {
          "base_uri": "https://localhost:8080/"
        },
        "outputId": "f4a8f1e4-70eb-4247-f70f-f0da2485325c"
      },
      "source": [
        "num = [48, 10, 11, 21, 36, 5, 6, 52, 28, 29, 53, 54, 45, 19, 20, 47, 55, 39, 41, 7, 9, 17, 26, 27, 42, 22, 37, 51, 46, 18, 44, 30, 34, 13, 15, 35, 33, 16, 50, 24]\n",
        "max_num = max(num)\n",
        "min_num = min(num)\n",
        "\n",
        "for i in range(min_num,max_num + 1):\n",
        "    if (not i%2) and (not (i in num)):\n",
        "        print(i, end = \" \")\n"
      ],
      "execution_count": null,
      "outputs": [
        {
          "output_type": "stream",
          "name": "stdout",
          "text": [
            "8 12 14 32 38 40 "
          ]
        }
      ]
    },
    {
      "cell_type": "markdown",
      "metadata": {
        "id": "yu1IpUitJQZS"
      },
      "source": [
        "**Write a Python dictionary function that takes a string from the user and matches each character in the string with the index number.**\n",
        "\n",
        "**For Example:**\n",
        "\n",
        "**İnput:'clarusway'**\n",
        "\n",
        "**output: {0: 'c', 1: 'l', 2: 'a', 3: 'r', 4: 'u', 5: 's', 6: 'w', 7: 'a', 8: 'y'}**"
      ]
    },
    {
      "cell_type": "code",
      "metadata": {
        "id": "LruMr-RY4BUn",
        "colab": {
          "base_uri": "https://localhost:8080/"
        },
        "outputId": "4811ded0-35f2-4067-86e1-4171136f93f3"
      },
      "source": [
        "text = input(\"\")\n",
        "sonuc ={}\n",
        "for i in range(len(text)):\n",
        "  sonuc[i] = text[i]\n",
        "print(sonuc)"
      ],
      "execution_count": null,
      "outputs": [
        {
          "output_type": "stream",
          "name": "stdout",
          "text": [
            "clarusway\n",
            "{0: 'c', 1: 'l', 2: 'a', 3: 'r', 4: 'u', 5: 's', 6: 'w', 7: 'a', 8: 'y'}\n"
          ]
        }
      ]
    },
    {
      "cell_type": "markdown",
      "metadata": {
        "id": "knXoLaQVKlDx"
      },
      "source": [
        "**Write a Python function that takes a positive integer and returns the sum of the cube of all the positive integers smaller than the specified number.**"
      ]
    },
    {
      "cell_type": "code",
      "metadata": {
        "colab": {
          "base_uri": "https://localhost:8080/"
        },
        "id": "XrSJFNJdJ1Yj",
        "outputId": "01ba2e65-0e56-4fb4-b020-61dba232f6b4"
      },
      "source": [
        "num = int(input(\"\"))\n",
        "print(sum([i ** 3 for i in range(num)]))"
      ],
      "execution_count": null,
      "outputs": [
        {
          "output_type": "stream",
          "name": "stdout",
          "text": [
            "9\n",
            "1296\n"
          ]
        }
      ]
    },
    {
      "cell_type": "markdown",
      "metadata": {
        "id": "gJqu3n1mQS3A"
      },
      "source": [
        "**Write a Python program to remove and print every third number from a list of numbers until the list becomes empty.**\n"
      ]
    },
    {
      "cell_type": "code",
      "metadata": {
        "id": "oZDmgOL-NtgJ",
        "colab": {
          "base_uri": "https://localhost:8080/"
        },
        "outputId": "8ec9397b-464a-4eb6-bbbb-5cdb4d70f134"
      },
      "source": [
        "liste = [1 ,2 ,3 ,4 ,5 ,6 ,7 ,8 ,9]\n",
        "indeks = 0\n",
        "uzunluk = len(liste)\n",
        "while len(liste) > 0 :\n",
        "  indeks = (2 + indeks) % uzunluk\n",
        "  liste.pop(indeks)\n",
        "  print(liste)\n",
        "  uzunluk -= 1"
      ],
      "execution_count": null,
      "outputs": [
        {
          "output_type": "stream",
          "name": "stdout",
          "text": [
            "[1, 2, 4, 5, 6, 7, 8, 9]\n",
            "[1, 2, 4, 5, 7, 8, 9]\n",
            "[1, 2, 4, 5, 7, 8]\n",
            "[1, 2, 5, 7, 8]\n",
            "[1, 2, 5, 7]\n",
            "[1, 2, 7]\n",
            "[1, 7]\n",
            "[1]\n",
            "[]\n"
          ]
        }
      ]
    },
    {
      "cell_type": "markdown",
      "metadata": {
        "id": "yN4PHTx3jkRF"
      },
      "source": [
        "**Given a list, right rotate the list by n position.**\n",
        "\n",
        "**Write a program to shift every element of a list to circularly right.**"
      ]
    },
    {
      "cell_type": "code",
      "metadata": {
        "id": "1g8Lxyiab8DB",
        "colab": {
          "base_uri": "https://localhost:8080/"
        },
        "outputId": "9368c518-5dca-42ee-b186-8bd92b836314"
      },
      "source": [
        "#kaç birim kaydırmak istediğimiz sayıyı gidiyoruz.\n",
        "num = int(input(\"\"))\n",
        "liste = [1, 2, 3, 4, 5, 6]\n",
        "new_liste = liste[len(liste)- num:] +liste[0:len(liste)- num]\n",
        "new_liste"
      ],
      "execution_count": null,
      "outputs": [
        {
          "name": "stdout",
          "output_type": "stream",
          "text": [
            "7\n"
          ]
        },
        {
          "output_type": "execute_result",
          "data": {
            "text/plain": [
              "[6, 1, 2, 3, 4, 5]"
            ]
          },
          "metadata": {},
          "execution_count": 21
        }
      ]
    },
    {
      "cell_type": "markdown",
      "metadata": {
        "id": "i1A45llbm1SA"
      },
      "source": [
        "**Write a program that takes your full name as input and displays the abbreviations of the first and middle names except the last name which is displayed as it is. For example, if your name is Robert Brett Roser, then the output should be R.B.Roser.**"
      ]
    },
    {
      "cell_type": "code",
      "metadata": {
        "id": "Zt7EYxrTjpu7",
        "colab": {
          "base_uri": "https://localhost:8080/"
        },
        "outputId": "bea940e0-2f7d-4d7d-c721-448d1ea422dd"
      },
      "source": [
        "name = list(map(str.title, input(\"\").split()))\n",
        "print(\"{}.{}.{}\".format(name[0][0],name[1][0],name[2]))"
      ],
      "execution_count": null,
      "outputs": [
        {
          "output_type": "stream",
          "name": "stdout",
          "text": [
            "betül melek alan\n",
            "B.M.Alan\n"
          ]
        }
      ]
    },
    {
      "cell_type": "markdown",
      "metadata": {
        "id": "93oJ4n_en0I3"
      },
      "source": [
        "**Write a program that takes a maximum two-digit (1-99) number from the user and finds the pronunciation of that number.**\n",
        "**For example:**\n",
        "\n",
        "**İnput:97**\n",
        "\n",
        "**Output:Doksan Yedi**"
      ]
    },
    {
      "cell_type": "code",
      "metadata": {
        "id": "dveaGSDCnVWp",
        "colab": {
          "base_uri": "https://localhost:8080/"
        },
        "outputId": "72a42f7e-1642-4521-bfed-a353b548d70a"
      },
      "source": [
        "sayı = int(input(\"\"))\n",
        "birler= [\"\", \"Bir\", \"İki\", \"Üç\", \"Dört\", \"Beş\", \"Altı\", \"Yedi\", \"Sekiz\", \"Dokuz\"]\n",
        "onlar= [\"\", \"On\", \"Yirmi\", \"Otuz\", \"Kırk\", \"Elli\", \"Altmış\", \"Yetmiş\", \"Seksen\", \"Doksan\"]\n",
        "\n",
        "birinci_b = sayı % 10\n",
        "ikinci_b = sayı // 10\n",
        "if len(str(sayı)) == 2:\n",
        "  print(onlar[ikinci_b], birler[birinci_b])\n",
        "elif len(str(sayı)) == 1 :\n",
        "  print(birler[birinci_b])\n",
        "\n"
      ],
      "execution_count": null,
      "outputs": [
        {
          "output_type": "stream",
          "name": "stdout",
          "text": [
            "11\n",
            "On Bir\n"
          ]
        }
      ]
    },
    {
      "cell_type": "code",
      "metadata": {
        "id": "yNXmYO9qoENG",
        "colab": {
          "base_uri": "https://localhost:8080/"
        },
        "outputId": "20e14382-9e25-4a36-f95a-c054d4548b0b"
      },
      "source": [
        "num = int(input(\"Enter your 2-digit number: \"))\n",
        "ones = [\"sıfır\", \"bir\", \"iki\", \"üç\", \"dört\", \"beş\", \"altı\", \"yedi\", \"sekiz\", \"dokuz\"]\n",
        "tens = [\"\", \"on\", \"yirmi\", \"otuz\", \"kırk\", \"elli\", \"altmış\", \"yetmiş\", \"seksen\", \"doksan\"]\n",
        "digit_ones = num % 10\n",
        "digit_tens = num // 10\n",
        "print(tens[digit_tens], ones[digit_ones])    "
      ],
      "execution_count": null,
      "outputs": [
        {
          "output_type": "stream",
          "name": "stdout",
          "text": [
            "Enter your 2-digit number: 21\n",
            "yirmi bir\n"
          ]
        }
      ]
    },
    {
      "cell_type": "markdown",
      "metadata": {
        "id": "bOaN3hg_8YCo"
      },
      "source": [
        "**Write a program that takes your full name as input and displays the abbreviations of the first and middle names except the last name which is displayed as it is. For example, if your name is Robert Brett Roser**\n",
        "\n",
        "**Expected Output**\n",
        "\n",
        "**R***** B**** ROSER**"
      ]
    },
    {
      "cell_type": "code",
      "metadata": {
        "id": "c6tulu0RtK43",
        "colab": {
          "base_uri": "https://localhost:8080/"
        },
        "outputId": "1efca2ae-8d80-46e3-8925-9c62cf2f25b0"
      },
      "source": [
        "name = list(map(str.upper, input(\"\").split()))\n",
        "count = 0\n",
        "for i in name :\n",
        "  count += 1\n",
        "  if count < len(name) :\n",
        "    i = i[0] +( \"*\" * (len(i) -1))\n",
        "  else :\n",
        "    i = i\n",
        "  print(i , end = \" \")"
      ],
      "execution_count": null,
      "outputs": [
        {
          "output_type": "stream",
          "name": "stdout",
          "text": [
            "birinci ikinci üçüncü dördüncü\n",
            "B****** I***** Ü***** DÖRDÜNCÜ "
          ]
        }
      ]
    },
    {
      "cell_type": "code",
      "metadata": {
        "id": "MvTYrSGyCzzm",
        "colab": {
          "base_uri": "https://localhost:8080/"
        },
        "outputId": "36e4f3a1-51c1-4391-e41d-36c8b0057970"
      },
      "source": [
        "name = input(\"\").split()\n",
        "short_name = \"\"\n",
        "for i in range(len(name) -1) :\n",
        "  short_name += name[i][0] + len(name[i][1:]) * \"*\" + \" \"\n",
        "short_name += name[-1]\n",
        "print(short_name.upper())"
      ],
      "execution_count": null,
      "outputs": [
        {
          "output_type": "stream",
          "name": "stdout",
          "text": [
            "melek alan\n",
            "M**** ALAN\n"
          ]
        }
      ]
    },
    {
      "cell_type": "markdown",
      "metadata": {
        "id": "JuFG4u1aEOOA"
      },
      "source": [
        "**Write a program that prints the numbers from 1 to 100 that form a pythagorean triangle. For exam:3 4 5**"
      ]
    },
    {
      "cell_type": "code",
      "metadata": {
        "id": "N9O0WjC1HdDz",
        "colab": {
          "base_uri": "https://localhost:8080/"
        },
        "outputId": "335c3b96-f130-4015-af10-f922d671bdcd"
      },
      "source": [
        "for x in range(1,100) :\n",
        "  for y in range(x,100) :\n",
        "    for z in range(y,100) :\n",
        "      if x ** 2 + y **2 == z ** 2 :\n",
        "        print(x,y,z)"
      ],
      "execution_count": null,
      "outputs": [
        {
          "output_type": "stream",
          "name": "stdout",
          "text": [
            "3 4 5\n",
            "5 12 13\n",
            "6 8 10\n",
            "7 24 25\n",
            "8 15 17\n",
            "9 12 15\n",
            "9 40 41\n",
            "10 24 26\n",
            "11 60 61\n",
            "12 16 20\n",
            "12 35 37\n",
            "13 84 85\n",
            "14 48 50\n",
            "15 20 25\n",
            "15 36 39\n",
            "16 30 34\n",
            "16 63 65\n",
            "18 24 30\n",
            "18 80 82\n",
            "20 21 29\n",
            "20 48 52\n",
            "21 28 35\n",
            "21 72 75\n",
            "24 32 40\n",
            "24 45 51\n",
            "24 70 74\n",
            "25 60 65\n",
            "27 36 45\n",
            "28 45 53\n",
            "30 40 50\n",
            "30 72 78\n",
            "32 60 68\n",
            "33 44 55\n",
            "33 56 65\n",
            "35 84 91\n",
            "36 48 60\n",
            "36 77 85\n",
            "39 52 65\n",
            "39 80 89\n",
            "40 42 58\n",
            "40 75 85\n",
            "42 56 70\n",
            "45 60 75\n",
            "48 55 73\n",
            "48 64 80\n",
            "51 68 85\n",
            "54 72 90\n",
            "57 76 95\n",
            "60 63 87\n",
            "65 72 97\n"
          ]
        }
      ]
    },
    {
      "cell_type": "markdown",
      "metadata": {
        "id": "E50IOoOeHs8n"
      },
      "source": [
        "**Write a Python program to remove the characters which have odd index values of a given string**"
      ]
    },
    {
      "cell_type": "code",
      "metadata": {
        "colab": {
          "base_uri": "https://localhost:8080/"
        },
        "id": "doljmnv1Hss0",
        "outputId": "89b7dce5-7498-461b-d486-489c68ce00a7"
      },
      "source": [
        "kelime = input(\"\")\n",
        "y_kelime = \"\"\n",
        "for i in range(len(kelime)) :\n",
        "  if i % 2 == 0 :\n",
        "    y_kelime += kelime[i]\n",
        "print(y_kelime)"
      ],
      "execution_count": null,
      "outputs": [
        {
          "output_type": "stream",
          "name": "stdout",
          "text": [
            "melek\n",
            "mlk\n"
          ]
        }
      ]
    },
    {
      "cell_type": "markdown",
      "metadata": {
        "id": "QBILOaXLMwUC"
      },
      "source": [
        "**Write a program to check if a given string is a Palindrome.\n",
        "A palindrome reads same from front and back e.g.- aba, ccaacc, mom, etc.**\n",
        "\n",
        "**INPUT:  aba**\n",
        "\n",
        "**OUTPUT: True**"
      ]
    },
    {
      "cell_type": "code",
      "metadata": {
        "id": "NDJt45hRFTQF",
        "colab": {
          "base_uri": "https://localhost:8080/"
        },
        "outputId": "eaba66b6-15cf-4765-c38c-20bb97c79a20"
      },
      "source": [
        "word = input(\"\").lower()\n",
        "print(word[::] == word[::-1])"
      ],
      "execution_count": null,
      "outputs": [
        {
          "output_type": "stream",
          "name": "stdout",
          "text": [
            "Mom\n",
            "True\n"
          ]
        }
      ]
    },
    {
      "cell_type": "markdown",
      "metadata": {
        "id": "IgrbR_0BN2EN"
      },
      "source": [
        "**Write a Python function that takes a sequence of numbers and determines whether all the numbers are different from each other**"
      ]
    },
    {
      "cell_type": "code",
      "metadata": {
        "colab": {
          "base_uri": "https://localhost:8080/"
        },
        "id": "XE600p4BNQo1",
        "outputId": "cc24605d-0a0a-441f-8d99-85baf1d2fa57"
      },
      "source": [
        "number = input(\"\")\n",
        "print(len(set(number)) == len(number))"
      ],
      "execution_count": null,
      "outputs": [
        {
          "output_type": "stream",
          "name": "stdout",
          "text": [
            "123456\n",
            "True\n"
          ]
        }
      ]
    },
    {
      "cell_type": "markdown",
      "metadata": {
        "id": "nl5LZ-nHRtwW"
      },
      "source": [
        "**You are given a string .\n",
        "Your task is to find out if the string  contains: alphanumeric characters, alphabetical characters, digits, lowercase and uppercase characters.**\n",
        "\n",
        "**Input Format**\n",
        "\n",
        "**A single line containing a string .**\n",
        "\n",
        "**Output Format**\n",
        "\n",
        "**In the first line, print True if  has any alphanumeric characters. Otherwise, print False.\n",
        "In the second line, print True if  has any alphabetical characters. Otherwise, print False.\n",
        "In the third line, print True if  has any digits. Otherwise, print False.\n",
        "In the fourth line, print True if  has any lowercase characters. Otherwise, print False.\n",
        "In the fifth line, print True if  has any uppercase characters. Otherwise, print False.**\n",
        "\n",
        "**Sample Input**\n",
        "\n",
        "**qA2**\n",
        "\n",
        "**Sample Output**\n",
        "\n",
        "**True**\n",
        "\n",
        "**True**\n",
        "\n",
        "**True**\n",
        "\n",
        "**True**\n",
        "\n",
        "**True**"
      ]
    },
    {
      "cell_type": "code",
      "metadata": {
        "colab": {
          "base_uri": "https://localhost:8080/"
        },
        "id": "GwMvVdZVOjbo",
        "outputId": "82159dd0-d359-45a0-ddf4-41e404ad3d81"
      },
      "source": [
        "text = input(\"\")\n",
        "print(any(i.isalnum() for i in text))\n",
        "print(any(i.isalpha() for i in text))\n",
        "print(any(i.isdigit() for i in text))\n",
        "print(any(i.islower() for i in text))\n",
        "print(any(i.isupper() for i in text))"
      ],
      "execution_count": null,
      "outputs": [
        {
          "output_type": "stream",
          "name": "stdout",
          "text": [
            "125pr\n",
            "True\n",
            "True\n",
            "True\n",
            "True\n",
            "False\n"
          ]
        }
      ]
    },
    {
      "cell_type": "markdown",
      "metadata": {
        "id": "iMBdFHXWc9M9"
      },
      "source": [
        "**You are given three integers  i, j and k representing the dimensions of a cuboid along with an integer n. Print a list of all possible coordinates given by  (i, j, k) on a 3D grid where the sum i + j + k of  is not equal to  n .**\n",
        "\n",
        "**Sample Input 0**\n",
        "\n",
        "**1**\n",
        "\n",
        "**1**\n",
        "\n",
        "**1**\n",
        "\n",
        "**2**\n",
        "\n",
        "**Sample Output 0**\n",
        "\n",
        "**[[0, 0, 0], [0, 0, 1], [0, 1, 0], [1, 0, 0], [1, 1, 1]]**\n",
        "\n",
        "**Print an array of the elements that do not sum to 2 .**"
      ]
    },
    {
      "cell_type": "code",
      "metadata": {
        "colab": {
          "base_uri": "https://localhost:8080/"
        },
        "id": "Nb3AHUUgfrPc",
        "outputId": "b11ab42f-04d9-4373-c21a-1e72e4f0662c"
      },
      "source": [
        "x, y, z, n = int(input(\"\")), int(input(\"\")), int(input(\"\")), int(input(\"\"))\n",
        "ls = []\n",
        "for i in range(x +1) :\n",
        "  for j in range(y+ 1) :\n",
        "    for k in range(z + 1) :\n",
        "      if i + j + k != n :\n",
        "        ls.append([i,j,k])\n",
        "print(ls)\n"
      ],
      "execution_count": null,
      "outputs": [
        {
          "output_type": "stream",
          "name": "stdout",
          "text": [
            "1\n",
            "1\n",
            "1\n",
            "2\n",
            "[[0, 0, 0], [0, 0, 1], [0, 1, 0], [1, 0, 0], [1, 1, 1]]\n"
          ]
        }
      ]
    },
    {
      "cell_type": "markdown",
      "metadata": {
        "id": "QTOMz3dHBMzk"
      },
      "source": [
        "**A number is said to be Harshad if it's exactly divisible by the sum of its digits. Create a code that determines whether a number is a Harshad or not.**\n",
        "\n",
        "**INPUT:75 ➞ OUTPUT:False**\n",
        "\n",
        "**7 + 5 = 12**\n",
        "\n",
        "**75 is not exactly divisible by 12**\n",
        "\n",
        "**INPUT:171 ➞ OUTPUT:True**\n",
        "\n",
        "**1 + 7 + 1 = 9**\n",
        "\n",
        "**9 exactly divides 171**"
      ]
    },
    {
      "cell_type": "code",
      "metadata": {
        "colab": {
          "base_uri": "https://localhost:8080/"
        },
        "id": "scQkyk_4eAzQ",
        "outputId": "d8fbf513-f417-4afb-baed-2c03f1ba3728"
      },
      "source": [
        "num = input(\"\")\n",
        "print(int(num) % sum([int(i) for i in num]) == 0)"
      ],
      "execution_count": 14,
      "outputs": [
        {
          "output_type": "stream",
          "name": "stdout",
          "text": [
            "171\n",
            "True\n"
          ]
        }
      ]
    },
    {
      "cell_type": "markdown",
      "metadata": {
        "id": "hEYACHfePfZV"
      },
      "source": [
        "**Write a Python program to get the difference between the two lists.**"
      ]
    },
    {
      "cell_type": "code",
      "metadata": {
        "colab": {
          "base_uri": "https://localhost:8080/"
        },
        "id": "Sw5_uRTnExVz",
        "outputId": "e080eaf6-fee4-4f55-c7ae-556034e1e7a0"
      },
      "source": [
        "list1 = [1, 3, 5, 7, 9]\n",
        "list2=[1, 2, 4, 6, 7, 8]\n",
        "diff_list1_list2 = list(set(list1) - set(list2))\n",
        "diff_list2_list1 = list(set(list2) - set(list1))\n",
        "total_diff = diff_list1_list2 + diff_list2_list1\n",
        "print(total_diff)"
      ],
      "execution_count": null,
      "outputs": [
        {
          "output_type": "stream",
          "name": "stdout",
          "text": [
            "[9, 3, 5, 8, 2, 4, 6]\n"
          ]
        }
      ]
    },
    {
      "cell_type": "markdown",
      "metadata": {
        "id": "FERdYMyUPxRp"
      },
      "source": [
        "**Try to find out if a number you get from the user is perfect.**\n",
        "\n",
        "\n",
        "**A number is called a \"perfect number\" if the sum of its divisors is equal to itself. For example, 6 is a perfect number. (1 + 2 + 3 = 6)**"
      ]
    },
    {
      "cell_type": "code",
      "metadata": {
        "colab": {
          "base_uri": "https://localhost:8080/"
        },
        "id": "R6_QkM1WPqC9",
        "outputId": "63584ad7-f04f-4a44-b493-0e3df52d3ea3"
      },
      "source": [
        "num = int(input(\"\"))\n",
        "total = 0\n",
        "for i in range(1,num) :\n",
        "  if num % i == 0 :\n",
        "    total += i\n",
        "if total == num :\n",
        "  print(\"{} is a perfect number.\".format(num))\n",
        "else :\n",
        "  print(\"{} is not a perfect number.\".format(num))"
      ],
      "execution_count": null,
      "outputs": [
        {
          "output_type": "stream",
          "name": "stdout",
          "text": [
            "20\n",
            "20 is not a perfect number.\n"
          ]
        }
      ]
    },
    {
      "cell_type": "markdown",
      "metadata": {
        "id": "NkVlXxc_hXr0"
      },
      "source": [
        "**Write a Python program to create a merged list of tuples from the two lists given.**\n",
        "\n",
        "**For Example:**\n",
        "**İnput:**\n",
        "\n",
        "**list1=[195, 488, 142, 626, 180]**\n",
        "\n",
        "**list2=[\"New York\", \"Alabama\", \"Hawaii\", \"Vermont\", \"West Virginia\"]**\n",
        "\n",
        "**Output:**\n",
        "\n",
        "**list3=[(195, 'New York'), (488, 'Alabama'), (142, 'Hawaii'), (626, 'Vermont'), (180, 'West Virginia')]**"
      ]
    },
    {
      "cell_type": "code",
      "metadata": {
        "id": "r-_0gki0QmVc",
        "colab": {
          "base_uri": "https://localhost:8080/"
        },
        "outputId": "13b3d258-fd3f-4e62-b30b-fe16f9240149"
      },
      "source": [
        "list1=[195, 488, 142, 626, 180]\n",
        "list2=[\"New York\", \"Alabama\", \"Hawaii\", \"Vermont\", \"West Virginia\"]\n",
        "\n",
        "new = list(zip(list1, list2))\n",
        "print(new) "
      ],
      "execution_count": null,
      "outputs": [
        {
          "output_type": "stream",
          "name": "stdout",
          "text": [
            "[(195, 'New York'), (488, 'Alabama'), (142, 'Hawaii'), (626, 'Vermont'), (180, 'West Virginia')]\n"
          ]
        }
      ]
    },
    {
      "cell_type": "code",
      "metadata": {
        "colab": {
          "base_uri": "https://localhost:8080/"
        },
        "id": "B5risacMhtdZ",
        "outputId": "bee3b745-515d-476d-e773-a206ca1a5a9d"
      },
      "source": [
        "merge_list = []\n",
        "for i in range(0, len(list1)) :\n",
        "  merge_list += [(list1[i], list2[i])]\n",
        "\n",
        "print(merge_list)"
      ],
      "execution_count": null,
      "outputs": [
        {
          "output_type": "stream",
          "name": "stdout",
          "text": [
            "[(195, 'New York'), (488, 'Alabama'), (142, 'Hawaii'), (626, 'Vermont'), (180, 'West Virginia')]\n"
          ]
        }
      ]
    },
    {
      "cell_type": "markdown",
      "metadata": {
        "id": "EwVUun9JAd3B"
      },
      "source": [
        "**\"Loves me, loves me not\" is a traditional game in which a person plucks off all the petals of a flower one by one, saying the phrase \"Loves me\" and \"Loves me not\" when determining whether the one that they love, loves them back.\n",
        "Given a number of petals, return a string which repeats the phrases \"Loves me\" and \"Loves me not\" for every alternating petal, and return the last phrase in all caps. Remember to put a comma and space between phrases.**\n",
        "\n",
        "**INPUT : 3 ➞ \"Loves me, Loves me not, LOVES ME\"**\n",
        "\n",
        "**INPUT : 6 ➞ \"Loves me, Loves me not, Loves me, Loves me not, Loves me, LOVES ME NOT\"**\n",
        "\n",
        "**INPUT : 1 ➞ \"LOVES ME\"**"
      ]
    },
    {
      "cell_type": "code",
      "metadata": {
        "colab": {
          "base_uri": "https://localhost:8080/"
        },
        "id": "ldQFa55zC2gG",
        "outputId": "ded7a36d-1b2b-48a0-8444-bc576b931f05"
      },
      "source": [
        "n = int(input(\"\"))\n",
        "papatya = [\"Loves me\", \"Loves me not\" ]\n",
        "yeni_papatya = []\n",
        "if n == 1 :\n",
        "  print(papatya[0].upper())\n",
        "else:\n",
        "  for i in range(1,n + 1) :\n",
        "    if i % 2 == 1 :\n",
        "      yeni_papatya += [papatya[0]]\n",
        "    elif i % 2 == 0 :\n",
        "      yeni_papatya += [papatya[1]]\n",
        "  yeni_papatya  = yeni_papatya[:-1] + [yeni_papatya[-1].upper()]\n",
        "  print(\", \".join(yeni_papatya))"
      ],
      "execution_count": null,
      "outputs": [
        {
          "output_type": "stream",
          "name": "stdout",
          "text": [
            "5\n",
            "Loves me, Loves me not, Loves me, Loves me not, LOVES ME\n"
          ]
        }
      ]
    },
    {
      "cell_type": "markdown",
      "metadata": {
        "id": "PeYUQJoOUs-3"
      },
      "source": [
        "**Given 2 arrays of ints, a and b, return True if they have the same first element or they have the same last element. Both arrays will be length 1 or more.**\n",
        "**(Without using for, if, while)**\n",
        "\n",
        "**[1, 2, 3], [7, 3] → True**\n",
        "\n",
        "**[1, 2, 3], [7, 3, 2] → False**\n",
        "\n",
        "**[1, 2, 3], [1, 3] → True**\n"
      ]
    },
    {
      "cell_type": "code",
      "metadata": {
        "id": "uQe7siz_EqZx",
        "colab": {
          "base_uri": "https://localhost:8080/"
        },
        "outputId": "e9d9edf8-21b4-418a-d6a6-8fd46f0993eb"
      },
      "source": [
        "lista = [1,2,3]\n",
        "listb = [7,3,2]\n",
        "print(lista[0] == listb[0] or lista[-1] == listb[-1])"
      ],
      "execution_count": null,
      "outputs": [
        {
          "output_type": "stream",
          "name": "stdout",
          "text": [
            "False\n"
          ]
        }
      ]
    },
    {
      "cell_type": "markdown",
      "metadata": {
        "id": "uZT3Py-xan9_"
      },
      "source": [
        "**Group Anagrams**\n",
        "\n",
        "**Title:**\n",
        "**Given an array of strings, you can combine words with different letters. Alphabetic words refer to strings with the same letters but arranged differently.**\n",
        "\n",
        "\n",
        "**Given an array of strings, group anagrams together.**\n",
        "\n",
        "\n",
        "**Example:**\n",
        "\n",
        "**Input: [\"eat\", \"tea\", \"tan\", \"ate\", \"nat\", \"bat\"]**\n",
        "\n",
        "**Output:**\n",
        "\n",
        "**[\n",
        "\n",
        "  **[\"ate\",\"eat\",\"tea\"],**\n",
        "\n",
        "  **[\"nat\",\"tan\"],**\n",
        "\n",
        "  **[\"bat\"]**\n",
        "\n",
        "**]**\n",
        "\n",
        "**Explain:**\n",
        "\n",
        "**All inputs are lowercase.**\n",
        "**Do not consider the order of the answer output.**\n",
        "**Note:**\n",
        "\n",
        "**All inputs will be in lowercase.**\n",
        "**The order of your output does not matter.**"
      ]
    },
    {
      "cell_type": "code",
      "metadata": {
        "colab": {
          "base_uri": "https://localhost:8080/"
        },
        "id": "Wm8ohGkLemDh",
        "outputId": "bd8bd725-6e56-4b7e-e450-94cce16f2ee0"
      },
      "source": [
        "strs = [\"eat\", \"tea\", \"tan\", \"ate\", \"nat\", \"bat\", \"cat\", \"tac\"]\n",
        "group = {}\n",
        "\n",
        "for i in strs :\n",
        "  kelime = \"\".join(sorted(i))\n",
        "  if kelime in group :\n",
        "    group[kelime].append(i)\n",
        "  else :\n",
        "    group[kelime] = [i]\n",
        "\n",
        "print(list(group.values()))\n"
      ],
      "execution_count": null,
      "outputs": [
        {
          "output_type": "stream",
          "name": "stdout",
          "text": [
            "[['eat', 'tea', 'ate'], ['tan', 'nat'], ['bat'], ['cat', 'tac']]\n",
            "act\n"
          ]
        }
      ]
    },
    {
      "cell_type": "markdown",
      "metadata": {
        "id": "-cFeG-VD8QBT"
      },
      "source": [
        "**Write a Python program to calculate the hypotenuse of a right angled triangle**"
      ]
    },
    {
      "cell_type": "code",
      "metadata": {
        "id": "BV3MjpD1iAyT",
        "colab": {
          "base_uri": "https://localhost:8080/"
        },
        "outputId": "45e6350c-7e0d-4a01-c47b-f04bdd960ace"
      },
      "source": [
        "x , y = int(input(\"\")), int(input(\"\")) \n",
        "print(((x **2) + (y ** 2)) ** 0.5)"
      ],
      "execution_count": null,
      "outputs": [
        {
          "output_type": "stream",
          "name": "stdout",
          "text": [
            "3\n",
            "4\n",
            "5.0\n"
          ]
        }
      ]
    },
    {
      "cell_type": "markdown",
      "metadata": {
        "id": "3qPHTVXY84sj"
      },
      "source": [
        "**Write a Python program to test whether all numbers of a list is greater than a certain number.**"
      ]
    },
    {
      "cell_type": "code",
      "metadata": {
        "id": "xqwq1BM3DD9W",
        "colab": {
          "base_uri": "https://localhost:8080/"
        },
        "outputId": "ec6df96e-49f4-4525-8685-4fca8ade61a6"
      },
      "source": [
        "lista = list(map(int, input(\"\").split()))\n",
        "number = int(input(\"\"))\n",
        "print(all([i > number for i in lista]))"
      ],
      "execution_count": null,
      "outputs": [
        {
          "name": "stdout",
          "output_type": "stream",
          "text": [
            "3 5 7 9 10 15\n",
            "2\n"
          ]
        },
        {
          "output_type": "execute_result",
          "data": {
            "text/plain": [
              "True"
            ]
          },
          "metadata": {},
          "execution_count": 3
        }
      ]
    },
    {
      "cell_type": "code",
      "metadata": {
        "colab": {
          "base_uri": "https://localhost:8080/"
        },
        "id": "-Q50wl3kZbVE",
        "outputId": "e5465d7c-361a-4c46-987a-a1160782f0d4"
      },
      "source": [
        "liste = []\n",
        "for i in range(1,5):\n",
        "  liste += [i]\n",
        "print(liste)\n",
        "  "
      ],
      "execution_count": 1,
      "outputs": [
        {
          "output_type": "stream",
          "name": "stdout",
          "text": [
            "[1, 2, 3, 4]\n"
          ]
        }
      ]
    },
    {
      "cell_type": "code",
      "metadata": {
        "colab": {
          "base_uri": "https://localhost:8080/"
        },
        "id": "mUnL2x1JZbOm",
        "outputId": "fc49af6e-3a92-4486-dd3e-d58e0026ab12"
      },
      "source": [
        "lista = list(map(int, input(\"\").split()))\n"
      ],
      "execution_count": 5,
      "outputs": [
        {
          "name": "stdout",
          "output_type": "stream",
          "text": [
            "5 6 89 2 45 63 47 12 11\n"
          ]
        },
        {
          "output_type": "execute_result",
          "data": {
            "text/plain": [
              "[5, 6, 89, 2, 45, 63, 47, 12, 11]"
            ]
          },
          "metadata": {},
          "execution_count": 5
        }
      ]
    },
    {
      "cell_type": "code",
      "metadata": {
        "id": "EWm8swoPZbFl"
      },
      "source": [
        ""
      ],
      "execution_count": null,
      "outputs": []
    },
    {
      "cell_type": "markdown",
      "metadata": {
        "id": "QLzckAY4MRyh"
      },
      "source": [
        "**Python Program to Find the Factorial of a Number**\n",
        "**The factorial of a number is the product of all the integers from 1 to that number.**\n",
        "**For example, the factorial of 6 is 1*2*3*4*5*6 = 720. Factorial is not defined for negative numbers, and the factorial of zero is one, 0! = 1.**"
      ]
    },
    {
      "cell_type": "code",
      "metadata": {
        "colab": {
          "base_uri": "https://localhost:8080/"
        },
        "id": "U0GPz8ESE1tD",
        "outputId": "437181f1-982f-45b2-e1c0-7f7e12a12ab9"
      },
      "source": [
        "n = int(input(\"\"))\n",
        "faktoriyel = 1\n",
        "if n < 0 :\n",
        "  print(\"Lütfen negatif sayı girmeyiniz! \")\n",
        "elif n == 0 :\n",
        "  print(\"0 faktoriyel 1 e eşittir.\")\n",
        "else :\n",
        "  for i in range(n,0,-1) :\n",
        "    faktoriyel *= i\n",
        "    print(\"{} faktoriyel {} sayısına eşittir.\".format(n, faktoriyel))\n"
      ],
      "execution_count": null,
      "outputs": [
        {
          "output_type": "stream",
          "name": "stdout",
          "text": [
            "0\n",
            "0 faktoriyel 1 e eşittir.\n"
          ]
        }
      ]
    },
    {
      "cell_type": "markdown",
      "metadata": {
        "id": "xZ8MGVdiu-j6"
      },
      "source": [
        "**Mark and Jane are very happy after having their first child. Their son loves toys, so Mark wants to buy some. There are a number of different toys lying in front of him, tagged with their prices. Mark has only a certain amount to spend, and he wants to maximize the number of toys he buys with this money. Given a list of toy prices and an amount to spend, determine the maximum number of gifts he can buy.**\n",
        "\n",
        "**Note Each toy can be purchased only once.**\n",
        "\n",
        "**Example**\n",
        "\n",
        "\n",
        "The budget is  units of currency. He can buy items that cost  for , or  for  units. The maximum is  items.\n",
        "\n",
        "Function Description\n",
        "\n",
        "Complete the function maximumToys in the editor below.\n",
        "\n",
        "maximumToys has the following parameter(s):\n",
        "\n",
        "int prices[n]: the toy prices\n",
        "int k: Mark's budget\n",
        "Returns\n",
        "\n",
        "int: the maximum number of toys\n",
        "Input Format\n",
        "\n",
        "The first line contains two integers,  and , the number of priced toys and the amount Mark has to spend.\n",
        "The next line contains  space-separated integers \n",
        "\n",
        "Constraints\n",
        "\n",
        "\n",
        "\n",
        "\n",
        "A toy can't be bought multiple times.\n",
        "\n",
        "Sample Input\n",
        "\n",
        "7 50\n",
        "\n",
        "1 12 5 111 200 1000 10\n",
        "\n",
        "Sample Output\n",
        "\n",
        "4\n",
        "Explanation\n",
        "\n",
        "**He can buy only  toys at most. These toys have the following prices: .**"
      ]
    },
    {
      "cell_type": "code",
      "metadata": {
        "colab": {
          "base_uri": "https://localhost:8080/"
        },
        "id": "GmrJFA0umCJn",
        "outputId": "07f737b7-e15a-4e87-dda1-8134e7ed1d9a"
      },
      "source": [
        "n, k = list(map(int, input(\"\").split()))\n",
        "prices = list(map(int, input(\"\").split()))\n",
        "count = 0\n",
        "total = 0\n",
        "\n",
        "for i in sorted(prices) :\n",
        "  if total + i <= k :\n",
        "    count +=1\n",
        "    total += i\n",
        "  else:\n",
        "    break\n",
        "\n",
        "print(count)\n",
        "\n"
      ],
      "execution_count": null,
      "outputs": [
        {
          "output_type": "stream",
          "name": "stdout",
          "text": [
            "7 50\n",
            "1 12 5 111 200 1000 10\n",
            "4\n"
          ]
        }
      ]
    },
    {
      "cell_type": "markdown",
      "metadata": {
        "id": "TySiN4bdKw0p"
      },
      "source": [
        "![image.png](data:image/png;base64,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)"
      ]
    },
    {
      "cell_type": "code",
      "metadata": {
        "colab": {
          "base_uri": "https://localhost:8080/"
        },
        "id": "ZST46STxKwW5",
        "outputId": "13b625da-8f3b-4f40-f368-c2a13980cb24"
      },
      "source": [
        "s1, s2 = input(\"\"), input(\"\")\n",
        "print(s1 in s2)\n"
      ],
      "execution_count": null,
      "outputs": [
        {
          "output_type": "stream",
          "name": "stdout",
          "text": [
            "Ynf\n",
            "PYnative\n",
            "False\n"
          ]
        }
      ]
    },
    {
      "cell_type": "markdown",
      "metadata": {
        "id": "oflYgdauqm-1"
      },
      "source": [
        "**Write Python codes that calculate the digits of pascal's triangle as many as the number of digits received from the user.**\n",
        "\n",
        "**İnput:6**\n",
        "\n",
        "**Output:**\n",
        "\n",
        "**[1]**\n",
        "\n",
        "**[1, 1]**\n",
        "\n",
        "**[1, 2, 1]**\n",
        "\n",
        "**[1, 3, 3, 1]**\n",
        "\n",
        "**[1, 4, 6, 4, 1]**\n",
        "\n",
        "**[1, 5, 10, 10, 5, 1]**\n"
      ]
    },
    {
      "cell_type": "code",
      "metadata": {
        "id": "qTv5CatPQGn0",
        "colab": {
          "base_uri": "https://localhost:8080/"
        },
        "outputId": "a9c21ee4-2310-430b-c6d7-cb06239b0a75"
      },
      "source": [
        "n = int(input(\"\"))\n",
        "for i in range(n) :\n",
        "  print(list(str(11 ** i)))"
      ],
      "execution_count": null,
      "outputs": [
        {
          "output_type": "stream",
          "name": "stdout",
          "text": [
            "5\n",
            "['1']\n",
            "['1', '1']\n",
            "['1', '2', '1']\n",
            "['1', '3', '3', '1']\n",
            "['1', '4', '6', '4', '1']\n"
          ]
        }
      ]
    },
    {
      "cell_type": "markdown",
      "metadata": {
        "id": "RTWHmKxluA7T"
      },
      "source": [
        "**![image.png](data:image/png;base64,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)**"
      ]
    },
    {
      "cell_type": "markdown",
      "metadata": {
        "id": "6CJtMsTNuGcf"
      },
      "source": [
        "**Given a number N, the task is to print the prime numbers from 1 to N.**\n",
        "\n",
        "**Examples:**\n",
        "\n",
        "**Input: N = 10**\n",
        "\n",
        "**Output: 2, 3, 5, 7**\n",
        "\n",
        "\n",
        "**Input: N = 5**\n",
        "\n",
        "**Output: 2, 3, 5**\n",
        "\n",
        "**A prime number is a natural number greater than 1, which is only divisible by 1 and itself.**"
      ]
    },
    {
      "cell_type": "code",
      "metadata": {
        "id": "U82rVYrSsT7V",
        "colab": {
          "base_uri": "https://localhost:8080/"
        },
        "outputId": "840f1d18-7383-4842-9616-1cff3d9bb6dd"
      },
      "source": [
        "prime = [2]\n",
        "n = int(input(\"\"))\n",
        "for i in range(3,n+1) :\n",
        "  for j in range(2,i) :\n",
        "    if i % j == 0 :\n",
        "      break\n",
        "  else :\n",
        "    prime += [i]\n",
        "\n",
        "print(\",\".join([str(k) for k in prime]))"
      ],
      "execution_count": null,
      "outputs": [
        {
          "output_type": "stream",
          "name": "stdout",
          "text": [
            "2\n",
            "2\n"
          ]
        }
      ]
    },
    {
      "cell_type": "markdown",
      "metadata": {
        "id": "33n_MUYn5w0B"
      },
      "source": [
        "![image.png](data:image/png;base64,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)"
      ]
    },
    {
      "cell_type": "code",
      "metadata": {
        "colab": {
          "base_uri": "https://localhost:8080/"
        },
        "id": "7fx-k6srx2dk",
        "outputId": "2d0df3b3-f9f7-4b69-c18a-1c2cd144e857"
      },
      "source": [
        "socks = list(map(int, input(\"\").split()))\n",
        "socks_dict = {}\n",
        "for i in set(socks) :\n",
        "  socks_dict[i] = socks.count(i)\n",
        "\n",
        "pairs = 0\n",
        "for j in socks_dict.values() :\n",
        "  pairs += j // 2\n",
        "print(pairs)"
      ],
      "execution_count": null,
      "outputs": [
        {
          "output_type": "stream",
          "name": "stdout",
          "text": [
            "10 20 20 10 10 30 50 10 20\n",
            "3\n"
          ]
        }
      ]
    },
    {
      "cell_type": "code",
      "metadata": {
        "id": "tTNLxOmK6mxE"
      },
      "source": [
        ""
      ],
      "execution_count": null,
      "outputs": []
    }
  ]
}