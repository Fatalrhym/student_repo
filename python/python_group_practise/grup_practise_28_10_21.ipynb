{
 "cells": [
  {
   "cell_type": "code",
   "execution_count": 7,
   "metadata": {},
   "outputs": [
    {
     "name": "stdout",
     "output_type": "stream",
     "text": [
      "m r\n"
     ]
    }
   ],
   "source": [
    "string_ = str(input(\"giriniz\"))\n",
    "vowels = ['a', 'e', 'i', 'o', 'u', \"A\", \"E\", \"I\", \"O\", \"U\"]\n",
    "string_ = list(string_)\n",
    "for i in string_:\n",
    "    if i in vowels:\n",
    "        string_.remove(i)\n",
    "print(*string_)"
   ]
  },
  {
   "cell_type": "code",
   "execution_count": 68,
   "metadata": {},
   "outputs": [
    {
     "name": "stdout",
     "output_type": "stream",
     "text": [
      "type of colors:  [1, 2, 3, 4, 5]\n",
      "pair of socks:  [2, 2, 1, 1, 1]\n",
      "sum of pairs:  7\n"
     ]
    }
   ],
   "source": [
    "socks = [1, 2, 1, 2, 1, 3, 2, 3, 1, 3, 2, 4, 5, 4, 5, 4]\n",
    "colors = []\n",
    "for i in set(socks):\n",
    "    colors.append(i)\n",
    "\n",
    "print(\"type of colors: \", colors)\n",
    "color_count = []\n",
    "for i in colors:\n",
    "    color_count.append(socks.count(i))\n",
    "\n",
    "pair = []\n",
    "for j in color_count:\n",
    "    pair.append(j//2)\n",
    "print(\"pair of socks: \", pair)   \n",
    "print(\"sum of pairs: \", sum(pair))    \n",
    "    "
   ]
  },
  {
   "cell_type": "code",
   "execution_count": 106,
   "metadata": {},
   "outputs": [
    {
     "name": "stdout",
     "output_type": "stream",
     "text": [
      "[1]\n",
      "[1, 2]\n",
      "[1, 2, 3]\n",
      "[1, 2, 3, 4]\n",
      "[1, 2, 3, 4, 5]\n",
      "[1, 2, 3, 4, 5, 6]\n"
     ]
    }
   ],
   "source": [
    "n = 7\n",
    "liste = []\n",
    "for i in range(1,n):\n",
    "    liste.append(i)\n",
    "    #for j in liste:\n",
    "        #liste.append(j)\n",
    "    print(liste)\n",
    "    \n"
   ]
  },
  {
   "cell_type": "code",
   "execution_count": 107,
   "metadata": {},
   "outputs": [
    {
     "name": "stdout",
     "output_type": "stream",
     "text": [
      "[1]\n",
      "[1, 1]\n",
      "[1, 2, 1]\n",
      "[1, 3, 3, 1]\n",
      "[1, 4, 6, 4, 1]\n",
      "[1, 5, 10, 10, 5, 1]\n",
      "[1, 6, 15, 20, 15, 6, 1]\n",
      "[1, 7, 21, 35, 35, 21, 7, 1]\n"
     ]
    }
   ],
   "source": [
    "def pascalUcgeni(yukseklik, satirlar=[]):\n",
    "    satirlar.append([1])\n",
    "    satir=[1]\n",
    "    for i in range(yukseklik):\n",
    "        sonraki = 0\n",
    "        siradaki_satir = []\n",
    "        for k in satir:\n",
    "            siradaki_satir.append(sonraki + k)\n",
    "            sonraki = k\n",
    "        siradaki_satir.append(1)\n",
    "        \n",
    "        satir = siradaki_satir\n",
    "        satirlar.append(satir)\n",
    "    \n",
    "    return satirlar\n",
    " \n",
    "sayi = int(input(\"Pascal üçgeninin kaç satırını hesaplamak istiyorsunuz: \"))\n",
    " \n",
    "for x in pascalUcgeni(sayi):\n",
    "    print(x)\n"
   ]
  },
  {
   "cell_type": "code",
   "execution_count": 109,
   "metadata": {},
   "outputs": [
    {
     "name": "stdout",
     "output_type": "stream",
     "text": [
      "[1]\n",
      "[1]\n",
      "[1]\n",
      "[1]\n",
      "[1]\n",
      "[1]\n",
      "[1]\n"
     ]
    }
   ],
   "source": [
    "pascal = [[1]]\n",
    "num = int(input(\"Number of iterations: \"))\n",
    "print(pascal[0]) # the very first row\n",
    "for i in range(1,num+1):\n",
    "    pascal.append([1]) # start off with 1\n",
    "    for j in range(len(pascal[i-1])-1):\n",
    "    # the number of times we need to run this loop is (# of elements in the row above)-1\n",
    "        pascal[i].append(pascal[i-1][j]+pascal[i-1][j+1])\n",
    "        # add two adjacent numbers of the row above together\n",
    "    pascal[i].append(1) # and cap it with 1\n",
    "    print(pascal[i])\n"
   ]
  },
  {
   "cell_type": "code",
   "execution_count": 119,
   "metadata": {},
   "outputs": [
    {
     "name": "stdout",
     "output_type": "stream",
     "text": [
      "nm nmsdas\n",
      "balanced\n"
     ]
    }
   ],
   "source": [
    "s1 = input(\"ilk kelime: \")\n",
    "s2 = input(\"ikinci kelime:\")\n",
    "print(s1, s2)\n",
    "\n",
    "if set(s1)-set(s1) == set():\n",
    "    print(\"balanced\")\n",
    "else:\n",
    "    print(\"not balanced\")"
   ]
  },
  {
   "cell_type": "code",
   "execution_count": 117,
   "metadata": {},
   "outputs": [
    {
     "name": "stdout",
     "output_type": "stream",
     "text": [
      "True\n"
     ]
    }
   ],
   "source": [
    "s1 = input(\"ilk kelime: \")\n",
    "s2 = input(\"ikinci kelime:\")\n",
    "print(s1 in s2)\n",
    "\n"
   ]
  },
  {
   "cell_type": "code",
   "execution_count": 127,
   "metadata": {},
   "outputs": [
    {
     "data": {
      "text/plain": [
       "False"
      ]
     },
     "execution_count": 127,
     "metadata": {},
     "output_type": "execute_result"
    }
   ],
   "source": [
    "\n",
    "any(\"\")"
   ]
  },
  {
   "cell_type": "code",
   "execution_count": 126,
   "metadata": {},
   "outputs": [
    {
     "data": {
      "text/plain": [
       "True"
      ]
     },
     "execution_count": 126,
     "metadata": {},
     "output_type": "execute_result"
    }
   ],
   "source": [
    "all(\"\")"
   ]
  },
  {
   "cell_type": "code",
   "execution_count": 135,
   "metadata": {},
   "outputs": [
    {
     "name": "stdout",
     "output_type": "stream",
     "text": [
      "sayınız tüm sayılardan büyük değildir\n"
     ]
    }
   ],
   "source": [
    "liste = [5, 6, 4, 9, 25, 15, 60]\n",
    "sayı = int(input(\"bir sayı giriniz: \"))\n",
    "for i in liste:\n",
    "    if i > sayı:\n",
    "        print(\"sayınız tüm sayılardan büyük değildir\")\n",
    "        break\n",
    "      \n",
    "else:\n",
    "    print(\"sayınız tüm sayılardan büyüktür\")\n",
    "\n",
    "\n"
   ]
  },
  {
   "cell_type": "code",
   "execution_count": null,
   "metadata": {},
   "outputs": [],
   "source": []
  },
  {
   "cell_type": "code",
   "execution_count": 122,
   "metadata": {},
   "outputs": [
    {
     "name": "stderr",
     "output_type": "stream",
     "text": [
      "<>:2: SyntaxWarning: \"is\" with a literal. Did you mean \"==\"?\n",
      "<>:2: SyntaxWarning: \"is\" with a literal. Did you mean \"==\"?\n",
      "<ipython-input-122-7c7dc727f0fc>:2: SyntaxWarning: \"is\" with a literal. Did you mean \"==\"?\n",
      "  0 is 0.0\n"
     ]
    },
    {
     "data": {
      "text/plain": [
       "False"
      ]
     },
     "execution_count": 122,
     "metadata": {},
     "output_type": "execute_result"
    }
   ],
   "source": [
    "0 == 0.0\n",
    "0 is 0.0"
   ]
  }
 ],
 "metadata": {
  "interpreter": {
   "hash": "4534adeab4963273a8b018f16fd2b3dc2b5ed7beaec456450e20317f249c8c14"
  },
  "kernelspec": {
   "display_name": "Python 3.8.8 64-bit ('base': conda)",
   "name": "python3"
  },
  "language_info": {
   "codemirror_mode": {
    "name": "ipython",
    "version": 3
   },
   "file_extension": ".py",
   "mimetype": "text/x-python",
   "name": "python",
   "nbconvert_exporter": "python",
   "pygments_lexer": "ipython3",
   "version": "3.8.8"
  },
  "orig_nbformat": 4
 },
 "nbformat": 4,
 "nbformat_minor": 2
}
