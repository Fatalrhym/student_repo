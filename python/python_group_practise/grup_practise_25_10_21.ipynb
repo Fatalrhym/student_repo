{
 "cells": [
  {
   "cell_type": "code",
   "execution_count": 1,
   "metadata": {},
   "outputs": [
    {
     "name": "stdout",
     "output_type": "stream",
     "text": [
      "My two favorite flowers are tulip and rose, two favorite colors are blue and green.\n"
     ]
    },
    {
     "data": {
      "text/plain": [
       "['jasmine', ['lavender', 'rose'], 'tulip']"
      ]
     },
     "execution_count": 1,
     "metadata": {},
     "output_type": "execute_result"
    }
   ],
   "source": [
    "flowers = [[\"jasmine\", [\"lavender\", \"rose\"], \"tulip\"]]\n",
    "colors = [\"red\", (\"blue\", [\"yellow\", \"green\"]), \"pink\"]\n",
    "text = \"My two favorite flowers are {} and {}, two favorite colors are {} and {}.\".format('tulip', 'rose', 'blue', 'green')\n",
    "print(text)\n",
    "flowers[0]"
   ]
  },
  {
   "cell_type": "code",
   "execution_count": 4,
   "metadata": {},
   "outputs": [
    {
     "name": "stdout",
     "output_type": "stream",
     "text": [
      "içeri girebilirsin\n"
     ]
    }
   ],
   "source": [
    "yas = float(input(\"yaşınızı girdiniz:\"))\n",
    "if yas >= 18:\n",
    "    print(\"içeri girebilirsin\")\n",
    "else:\n",
    "    print(\"içeri giremezsin\")"
   ]
  },
  {
   "cell_type": "code",
   "execution_count": 8,
   "metadata": {},
   "outputs": [
    {
     "name": "stdout",
     "output_type": "stream",
     "text": [
      "Fatih eğitim şart.\n"
     ]
    }
   ],
   "source": [
    "isim = input(\"adınız:\").title()\n",
    "yas = float(input(\"yaşınız:\"))\n",
    "egitim = input(\"egitim:\").lower()\n",
    "\n",
    "if yas>=18 :\n",
    "    if egitim == \"lise\" or egitim == \"üniversite\":\n",
    "        print(\"{} ehliyet alabilirsiniz.\".format(isim))\n",
    "    else :\n",
    "        print(\"{} eğitim şart.\".format(isim))\n",
    "else:\n",
    "    print(\"{} yaşınız yetmiyor\".format(isim))\n"
   ]
  },
  {
   "cell_type": "code",
   "execution_count": 17,
   "metadata": {},
   "outputs": [
    {
     "name": "stdout",
     "output_type": "stream",
     "text": [
      "ortalama 72, notunuz: 4\n"
     ]
    }
   ],
   "source": [
    "yazili1 = float(input('1.yazılı: '))\n",
    "yazili2 = float(input('2.yazılı: '))\n",
    "sozlu = float(input('sözlü: '))\n",
    "\n",
    "ortalama = round((yazili1 + yazili2 + sozlu) / 3)\n",
    "if 0<ortalama<25 :\n",
    "    print(\"ortalama {}, notunuz: 0\".format(ortalama))\n",
    "\n",
    "elif 25<=ortalama<=44 :\n",
    "    print(\"ortalama {}, notunuz: 1\".format(ortalama))\n",
    "\n",
    "elif 45<=ortalama<=54 :\n",
    "    print(\"ortalama {}, notunuz: 2\".format(ortalama))\n",
    "\n",
    "elif 55<=ortalama<=69 :\n",
    "    print(\"ortalama {}, notunuz: 3\".format(ortalama))\n",
    "\n",
    "elif 70<=ortalama<=84 :\n",
    "    print(\"ortalama {}, notunuz: 4\".format(ortalama))\n",
    "\n",
    "elif 85<=ortalama<=100 :\n",
    "    print(\"ortalama {}, notunuz: 5\".format(ortalama))\n",
    "\n",
    "else :\n",
    "    print(\"hatalı\")\n"
   ]
  },
  {
   "cell_type": "code",
   "execution_count": 18,
   "metadata": {},
   "outputs": [
    {
     "name": "stdout",
     "output_type": "stream",
     "text": [
      "-1 negatif bir sayıdır\n"
     ]
    }
   ],
   "source": [
    "sayı = int(input(\"sayı: \"))\n",
    "\n",
    "if sayı >= 0:\n",
    "    if sayı % 2 == 0:\n",
    "        print(sayı, \"pozitif bir çift sayıdır\")\n",
    "    else :\n",
    "        print(sayı, \"pozitif ancak tek sayıdır\")\n",
    "else :\n",
    "    print(sayı, \"negatif bir sayıdır\")\n"
   ]
  },
  {
   "cell_type": "code",
   "execution_count": 1,
   "metadata": {},
   "outputs": [
    {
     "name": "stdout",
     "output_type": "stream",
     "text": [
      "['eggplant', 'spinach']\n"
     ]
    }
   ],
   "source": [
    "grocer = [\"banana\", [\"orange\", [\"apple\", \"eggplant\", \"melon\", \"spinach\", \"cheese\", \"leek\" ], \"water\"], \"mandarin\"]\n",
    "print(grocer[1][1][1:5:2])"
   ]
  },
  {
   "cell_type": "code",
   "execution_count": 3,
   "metadata": {},
   "outputs": [
    {
     "name": "stdout",
     "output_type": "stream",
     "text": [
      "['eggplant', 'spinach', 'leek']\n"
     ]
    }
   ],
   "source": [
    "grocer = [\"banana\", [\"orange\", [\"apple\", \"eggplant\", \"melon\", \"spinach\", \"cheese\", \"leek\" ], \"water\"], \"mandarin\"]\n",
    "\n",
    "print(grocer[1][1][1::2])"
   ]
  },
  {
   "cell_type": "code",
   "execution_count": 1,
   "metadata": {},
   "outputs": [
    {
     "name": "stdout",
     "output_type": "stream",
     "text": [
      "True\n"
     ]
    }
   ],
   "source": [
    "left_h = \"q, w, e, r, t, a, s, d, f, g, z, x, c, v, b\"\n",
    "right_h = \"y, u, i, o, p, h, j, k, l, n, m\"\n",
    "word = set(input(\"Bir kelime giriniz \").lower())\n",
    "\n",
    "if word - set(left_h) == set() or word - set(right_h) == set() :\n",
    "  print(False)\n",
    "else:\n",
    "  print(True)"
   ]
  },
  {
   "cell_type": "code",
   "execution_count": null,
   "metadata": {},
   "outputs": [],
   "source": []
  },
  {
   "cell_type": "code",
   "execution_count": null,
   "metadata": {},
   "outputs": [],
   "source": []
  }
 ],
 "metadata": {
  "interpreter": {
   "hash": "4534adeab4963273a8b018f16fd2b3dc2b5ed7beaec456450e20317f249c8c14"
  },
  "kernelspec": {
   "display_name": "Python 3.8.8 64-bit ('base': conda)",
   "name": "python3"
  },
  "language_info": {
   "codemirror_mode": {
    "name": "ipython",
    "version": 3
   },
   "file_extension": ".py",
   "mimetype": "text/x-python",
   "name": "python",
   "nbconvert_exporter": "python",
   "pygments_lexer": "ipython3",
   "version": "3.8.8"
  },
  "orig_nbformat": 4
 },
 "nbformat": 4,
 "nbformat_minor": 2
}
